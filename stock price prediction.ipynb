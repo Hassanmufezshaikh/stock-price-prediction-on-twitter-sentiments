{
 "cells": [
  {
   "cell_type": "markdown",
   "id": "6d1a6217",
   "metadata": {},
   "source": [
    "## importing machine learning libraries"
   ]
  },
  {
   "cell_type": "code",
   "execution_count": 1,
   "id": "c8f97188",
   "metadata": {},
   "outputs": [],
   "source": [
    "import numpy as np\n",
    "import pandas as pd\n",
    "from nltk.classify import NaiveBayesClassifier\n",
    "from nltk.corpus import subjectivity\n",
    "from nltk.sentiment import SentimentAnalyzer\n",
    "from nltk.sentiment.util import *\n",
    "import matplotlib.pyplot as mlpt"
   ]
  },
  {
   "cell_type": "markdown",
   "id": "4d0ce699",
   "metadata": {},
   "source": [
    "### importing library to fetch data from twitter"
   ]
  },
  {
   "cell_type": "code",
   "execution_count": 2,
   "id": "e2b7c850",
   "metadata": {},
   "outputs": [],
   "source": [
    "import tweepy\n",
    "import csv\n",
    "import pandas as pd\n",
    "import random\n",
    "import numpy as np\n",
    "import pandas as pd\n"
   ]
  },
  {
   "cell_type": "markdown",
   "id": "62c84941",
   "metadata": {},
   "source": [
    "## setting up consumer key and access token"
   ]
  },
  {
   "cell_type": "code",
   "execution_count": 13,
   "id": "19f7ba35",
   "metadata": {},
   "outputs": [],
   "source": [
    "import tweepy\n",
    "import pandas as pd\n",
    "\n",
    "# Set up your Twitter API credentials\n",
    "consumer_key = '3jmA1BqasLHfItBXj3KnAIGFB'\n",
    "consumer_secret = 'imyEeVTctFZuK62QHmL1I0AUAMudg5HKJDfkx0oR7oFbFinbvA'\n",
    "access_token = '265857263-pF1DRxgIcxUbxEEFtLwLODPzD3aMl6d4zOKlMnme'\n",
    "access_token_secret = 'uUFoOOGeNJfOYD3atlcmPtaxxniXxQzAU4ESJLopA1lbC'\n",
    "\n",
    "# Authenticate with Twitter API\n",
    "auth = tweepy.OAuthHandler(consumer_key, consumer_secret)\n",
    "auth.set_access_token(access_token, access_token_secret)\n",
    "\n",
    "# Create API object\n",
    "api = tweepy.API(auth)\n",
    "\n",
    "# Fetch tweets using Cursor\n",
    "fetch_tweets = tweepy.Cursor(api.search_tweets, q=\"#unitedAIRLINES\", count=100, lang=\"en\", tweet_mode=\"extended\").items()\n",
    "\n",
    "# Create DataFrame with tweet information\n",
    "data = pd.DataFrame(data=[[tweet_info.created_at.date(), tweet_info.full_text] for tweet_info in fetch_tweets], columns=['Date', 'Tweets'])\n"
   ]
  },
  {
   "cell_type": "markdown",
   "id": "9de37d3d",
   "metadata": {},
   "source": [
    "## Fetching tweets for United Airlines in extended mode (means entire tweet will come and not just few words + link)"
   ]
  },
  {
   "cell_type": "code",
   "execution_count": 15,
   "id": "9dcef98c",
   "metadata": {},
   "outputs": [
    {
     "name": "stderr",
     "output_type": "stream",
     "text": [
      "Unexpected parameter: since\n",
      "Unexpected parameter: since\n",
      "Unexpected parameter: since\n",
      "Unexpected parameter: since\n",
      "Unexpected parameter: since\n"
     ]
    }
   ],
   "source": [
    "fetch_tweets = tweepy.Cursor(api.search_tweets, q=\"#unitedAIRLINES\", count=100, lang=\"en\", since=\"2018-09-13\", tweet_mode=\"extended\").items()\n",
    "data = pd.DataFrame(data=[[tweet_info.created_at.date(), tweet_info.full_text] for tweet_info in fetch_tweets], columns=['Date', 'Tweets'])\n"
   ]
  },
  {
   "cell_type": "code",
   "execution_count": 16,
   "id": "07763963",
   "metadata": {},
   "outputs": [
    {
     "data": {
      "text/html": [
       "<div>\n",
       "<style scoped>\n",
       "    .dataframe tbody tr th:only-of-type {\n",
       "        vertical-align: middle;\n",
       "    }\n",
       "\n",
       "    .dataframe tbody tr th {\n",
       "        vertical-align: top;\n",
       "    }\n",
       "\n",
       "    .dataframe thead th {\n",
       "        text-align: right;\n",
       "    }\n",
       "</style>\n",
       "<table border=\"1\" class=\"dataframe\">\n",
       "  <thead>\n",
       "    <tr style=\"text-align: right;\">\n",
       "      <th></th>\n",
       "      <th>Date</th>\n",
       "      <th>Tweets</th>\n",
       "    </tr>\n",
       "  </thead>\n",
       "  <tbody>\n",
       "    <tr>\n",
       "      <th>0</th>\n",
       "      <td>2023-06-14</td>\n",
       "      <td>🛫🛫 Take flight to your dream destinations! 🌍✨ ...</td>\n",
       "    </tr>\n",
       "    <tr>\n",
       "      <th>1</th>\n",
       "      <td>2023-06-14</td>\n",
       "      <td>Anytime anyone says they want government run h...</td>\n",
       "    </tr>\n",
       "    <tr>\n",
       "      <th>2</th>\n",
       "      <td>2023-06-14</td>\n",
       "      <td>Exiting UA662 DFW to DEN while I was waiting f...</td>\n",
       "    </tr>\n",
       "    <tr>\n",
       "      <th>3</th>\n",
       "      <td>2023-06-14</td>\n",
       "      <td>NEVER I MEAN NEVER FLY WITH @UnitedAirlines_ T...</td>\n",
       "    </tr>\n",
       "    <tr>\n",
       "      <th>4</th>\n",
       "      <td>2023-06-14</td>\n",
       "      <td>RT @YvonneYvette24: Flying the friendly skies....</td>\n",
       "    </tr>\n",
       "    <tr>\n",
       "      <th>...</th>\n",
       "      <td>...</td>\n",
       "      <td>...</td>\n",
       "    </tr>\n",
       "    <tr>\n",
       "      <th>334</th>\n",
       "      <td>2023-06-04</td>\n",
       "      <td>When it comes to selling to corporate accounts...</td>\n",
       "    </tr>\n",
       "    <tr>\n",
       "      <th>335</th>\n",
       "      <td>2023-06-04</td>\n",
       "      <td>RT @CtrOfAviation: United 737 Max 9 Landing 🏖️...</td>\n",
       "    </tr>\n",
       "    <tr>\n",
       "      <th>336</th>\n",
       "      <td>2023-06-04</td>\n",
       "      <td>#unitedAirline \\n#UnitedAirlines \\nIs the CEO ...</td>\n",
       "    </tr>\n",
       "    <tr>\n",
       "      <th>337</th>\n",
       "      <td>2023-06-04</td>\n",
       "      <td>Direct flight connections from New York to Mal...</td>\n",
       "    </tr>\n",
       "    <tr>\n",
       "      <th>338</th>\n",
       "      <td>2023-06-04</td>\n",
       "      <td>Two bags. Both checked in at the same place at...</td>\n",
       "    </tr>\n",
       "  </tbody>\n",
       "</table>\n",
       "<p>339 rows × 2 columns</p>\n",
       "</div>"
      ],
      "text/plain": [
       "           Date                                             Tweets\n",
       "0    2023-06-14  🛫🛫 Take flight to your dream destinations! 🌍✨ ...\n",
       "1    2023-06-14  Anytime anyone says they want government run h...\n",
       "2    2023-06-14  Exiting UA662 DFW to DEN while I was waiting f...\n",
       "3    2023-06-14  NEVER I MEAN NEVER FLY WITH @UnitedAirlines_ T...\n",
       "4    2023-06-14  RT @YvonneYvette24: Flying the friendly skies....\n",
       "..          ...                                                ...\n",
       "334  2023-06-04  When it comes to selling to corporate accounts...\n",
       "335  2023-06-04  RT @CtrOfAviation: United 737 Max 9 Landing 🏖️...\n",
       "336  2023-06-04  #unitedAirline \\n#UnitedAirlines \\nIs the CEO ...\n",
       "337  2023-06-04  Direct flight connections from New York to Mal...\n",
       "338  2023-06-04  Two bags. Both checked in at the same place at...\n",
       "\n",
       "[339 rows x 2 columns]"
      ]
     },
     "execution_count": 16,
     "metadata": {},
     "output_type": "execute_result"
    }
   ],
   "source": [
    "data"
   ]
  },
  {
   "cell_type": "code",
   "execution_count": null,
   "id": "2411fc2a",
   "metadata": {},
   "outputs": [],
   "source": []
  },
  {
   "cell_type": "markdown",
   "id": "f02fa168",
   "metadata": {},
   "source": [
    "## Removing special character from each tweets"
   ]
  },
  {
   "cell_type": "code",
   "execution_count": 17,
   "id": "3003e964",
   "metadata": {},
   "outputs": [],
   "source": [
    "data.to_csv(\"Tweets.csv\")\n",
    "cdata=pd.DataFrame(columns=['Date','Tweets'])\n",
    "total=100\n",
    "index=0\n",
    "for index,row in data.iterrows():\n",
    "    stre=row[\"Tweets\"]\n",
    "    my_new_string = re.sub('[^ a-zA-Z0-9]', '', stre)\n",
    "    temp_df = pd.DataFrame([[data[\"Date\"].iloc[index], \n",
    "                            my_new_string]], columns = ['Date','Tweets'])\n",
    "    cdata = pd.concat([cdata, temp_df], axis = 0).reset_index(drop = True)\n",
    "    # index=index+1\n",
    "#print(cdata.dtypes)"
   ]
  },
  {
   "cell_type": "markdown",
   "id": "1833a743",
   "metadata": {},
   "source": [
    "## Displaying the data with date and tweets, you can notice there are multiple tweets for each day. So we will club them together later."
   ]
  },
  {
   "cell_type": "code",
   "execution_count": 18,
   "id": "7925ee24",
   "metadata": {},
   "outputs": [
    {
     "data": {
      "text/html": [
       "<div>\n",
       "<style scoped>\n",
       "    .dataframe tbody tr th:only-of-type {\n",
       "        vertical-align: middle;\n",
       "    }\n",
       "\n",
       "    .dataframe tbody tr th {\n",
       "        vertical-align: top;\n",
       "    }\n",
       "\n",
       "    .dataframe thead th {\n",
       "        text-align: right;\n",
       "    }\n",
       "</style>\n",
       "<table border=\"1\" class=\"dataframe\">\n",
       "  <thead>\n",
       "    <tr style=\"text-align: right;\">\n",
       "      <th></th>\n",
       "      <th>Date</th>\n",
       "      <th>Tweets</th>\n",
       "    </tr>\n",
       "  </thead>\n",
       "  <tbody>\n",
       "    <tr>\n",
       "      <th>0</th>\n",
       "      <td>2023-06-14</td>\n",
       "      <td>Take flight to your dream destinations  Enjoy...</td>\n",
       "    </tr>\n",
       "    <tr>\n",
       "      <th>1</th>\n",
       "      <td>2023-06-14</td>\n",
       "      <td>Anytime anyone says they want government run h...</td>\n",
       "    </tr>\n",
       "    <tr>\n",
       "      <th>2</th>\n",
       "      <td>2023-06-14</td>\n",
       "      <td>Exiting UA662 DFW to DEN while I was waiting f...</td>\n",
       "    </tr>\n",
       "    <tr>\n",
       "      <th>3</th>\n",
       "      <td>2023-06-14</td>\n",
       "      <td>NEVER I MEAN NEVER FLY WITH UnitedAirlines THE...</td>\n",
       "    </tr>\n",
       "    <tr>\n",
       "      <th>4</th>\n",
       "      <td>2023-06-14</td>\n",
       "      <td>RT YvonneYvette24 Flying the friendly skies Un...</td>\n",
       "    </tr>\n",
       "    <tr>\n",
       "      <th>...</th>\n",
       "      <td>...</td>\n",
       "      <td>...</td>\n",
       "    </tr>\n",
       "    <tr>\n",
       "      <th>334</th>\n",
       "      <td>2023-06-04</td>\n",
       "      <td>When it comes to selling to corporate accounts...</td>\n",
       "    </tr>\n",
       "    <tr>\n",
       "      <th>335</th>\n",
       "      <td>2023-06-04</td>\n",
       "      <td>RT CtrOfAviation United 737 Max 9 Landing RSW ...</td>\n",
       "    </tr>\n",
       "    <tr>\n",
       "      <th>336</th>\n",
       "      <td>2023-06-04</td>\n",
       "      <td>unitedAirline UnitedAirlines Is the CEO of Uni...</td>\n",
       "    </tr>\n",
       "    <tr>\n",
       "      <th>337</th>\n",
       "      <td>2023-06-04</td>\n",
       "      <td>Direct flight connections from New York to Mal...</td>\n",
       "    </tr>\n",
       "    <tr>\n",
       "      <th>338</th>\n",
       "      <td>2023-06-04</td>\n",
       "      <td>Two bags Both checked in at the same place at ...</td>\n",
       "    </tr>\n",
       "  </tbody>\n",
       "</table>\n",
       "<p>339 rows × 2 columns</p>\n",
       "</div>"
      ],
      "text/plain": [
       "           Date                                             Tweets\n",
       "0    2023-06-14   Take flight to your dream destinations  Enjoy...\n",
       "1    2023-06-14  Anytime anyone says they want government run h...\n",
       "2    2023-06-14  Exiting UA662 DFW to DEN while I was waiting f...\n",
       "3    2023-06-14  NEVER I MEAN NEVER FLY WITH UnitedAirlines THE...\n",
       "4    2023-06-14  RT YvonneYvette24 Flying the friendly skies Un...\n",
       "..          ...                                                ...\n",
       "334  2023-06-04  When it comes to selling to corporate accounts...\n",
       "335  2023-06-04  RT CtrOfAviation United 737 Max 9 Landing RSW ...\n",
       "336  2023-06-04  unitedAirline UnitedAirlines Is the CEO of Uni...\n",
       "337  2023-06-04  Direct flight connections from New York to Mal...\n",
       "338  2023-06-04  Two bags Both checked in at the same place at ...\n",
       "\n",
       "[339 rows x 2 columns]"
      ]
     },
     "execution_count": 18,
     "metadata": {},
     "output_type": "execute_result"
    }
   ],
   "source": [
    "cdata"
   ]
  },
  {
   "cell_type": "markdown",
   "id": "a3c6adb5",
   "metadata": {},
   "source": [
    "#### Creating a dataframe where we will combine the tweets date wise and store into"
   ]
  },
  {
   "cell_type": "code",
   "execution_count": 19,
   "id": "d03b7e00",
   "metadata": {},
   "outputs": [],
   "source": [
    "ccdata=pd.DataFrame(columns=['Date','Tweets'])"
   ]
  },
  {
   "cell_type": "code",
   "execution_count": 20,
   "id": "e67d84c7",
   "metadata": {},
   "outputs": [],
   "source": [
    "indx=0\n",
    "get_tweet=\"\"\n",
    "for i in range(0,len(cdata)-1):\n",
    "    get_date=cdata.Date.iloc[i]\n",
    "    next_date=cdata.Date.iloc[i+1]\n",
    "    if(str(get_date)==str(next_date)):\n",
    "        get_tweet=get_tweet+cdata.Tweets.iloc[i]+\" \"\n",
    "    if(str(get_date)!=str(next_date)):\n",
    "        temp_df = pd.DataFrame([[get_date, \n",
    "                                get_tweet]], columns = ['Date','Tweets'])\n",
    "        ccdata = pd.concat([ccdata, temp_df], axis = 0).reset_index(drop = True)\n",
    "        get_tweet=\" \""
   ]
  },
  {
   "cell_type": "code",
   "execution_count": 21,
   "id": "9c67b7c0",
   "metadata": {},
   "outputs": [],
   "source": [
    "## All the tweets has been clubbed as per their date."
   ]
  },
  {
   "cell_type": "code",
   "execution_count": 22,
   "id": "b6407e65",
   "metadata": {},
   "outputs": [
    {
     "data": {
      "text/html": [
       "<div>\n",
       "<style scoped>\n",
       "    .dataframe tbody tr th:only-of-type {\n",
       "        vertical-align: middle;\n",
       "    }\n",
       "\n",
       "    .dataframe tbody tr th {\n",
       "        vertical-align: top;\n",
       "    }\n",
       "\n",
       "    .dataframe thead th {\n",
       "        text-align: right;\n",
       "    }\n",
       "</style>\n",
       "<table border=\"1\" class=\"dataframe\">\n",
       "  <thead>\n",
       "    <tr style=\"text-align: right;\">\n",
       "      <th></th>\n",
       "      <th>Date</th>\n",
       "      <th>Tweets</th>\n",
       "    </tr>\n",
       "  </thead>\n",
       "  <tbody>\n",
       "    <tr>\n",
       "      <th>0</th>\n",
       "      <td>2023-06-14</td>\n",
       "      <td>Take flight to your dream destinations  Enjoy...</td>\n",
       "    </tr>\n",
       "    <tr>\n",
       "      <th>1</th>\n",
       "      <td>2023-06-13</td>\n",
       "      <td>My day keeps getting better George Don amp Je...</td>\n",
       "    </tr>\n",
       "    <tr>\n",
       "      <th>2</th>\n",
       "      <td>2023-06-12</td>\n",
       "      <td>One thing I can guarantee is that united exec...</td>\n",
       "    </tr>\n",
       "    <tr>\n",
       "      <th>3</th>\n",
       "      <td>2023-06-11</td>\n",
       "      <td>Entitlement doesnt get ANY worse than this Un...</td>\n",
       "    </tr>\n",
       "    <tr>\n",
       "      <th>4</th>\n",
       "      <td>2023-06-10</td>\n",
       "      <td>UnitedAirlines Given the cost of my ticket am...</td>\n",
       "    </tr>\n",
       "    <tr>\n",
       "      <th>5</th>\n",
       "      <td>2023-06-09</td>\n",
       "      <td>Excited to be flying back home to Hawaii in f...</td>\n",
       "    </tr>\n",
       "    <tr>\n",
       "      <th>6</th>\n",
       "      <td>2023-06-08</td>\n",
       "      <td>ICAO A05A25Flt UAL549 UnitedAirlines BOSORDFi...</td>\n",
       "    </tr>\n",
       "    <tr>\n",
       "      <th>7</th>\n",
       "      <td>2023-06-07</td>\n",
       "      <td>United Airlines flight diverted then stuck on...</td>\n",
       "    </tr>\n",
       "    <tr>\n",
       "      <th>8</th>\n",
       "      <td>2023-06-06</td>\n",
       "      <td>Get Comfortable United Airlines Longest Route...</td>\n",
       "    </tr>\n",
       "    <tr>\n",
       "      <th>9</th>\n",
       "      <td>2023-06-05</td>\n",
       "      <td>RT JaspreetTravels Peep the fitting taxiway n...</td>\n",
       "    </tr>\n",
       "  </tbody>\n",
       "</table>\n",
       "</div>"
      ],
      "text/plain": [
       "         Date                                             Tweets\n",
       "0  2023-06-14   Take flight to your dream destinations  Enjoy...\n",
       "1  2023-06-13   My day keeps getting better George Don amp Je...\n",
       "2  2023-06-12   One thing I can guarantee is that united exec...\n",
       "3  2023-06-11   Entitlement doesnt get ANY worse than this Un...\n",
       "4  2023-06-10   UnitedAirlines Given the cost of my ticket am...\n",
       "5  2023-06-09   Excited to be flying back home to Hawaii in f...\n",
       "6  2023-06-08   ICAO A05A25Flt UAL549 UnitedAirlines BOSORDFi...\n",
       "7  2023-06-07   United Airlines flight diverted then stuck on...\n",
       "8  2023-06-06   Get Comfortable United Airlines Longest Route...\n",
       "9  2023-06-05   RT JaspreetTravels Peep the fitting taxiway n..."
      ]
     },
     "execution_count": 22,
     "metadata": {},
     "output_type": "execute_result"
    }
   ],
   "source": [
    "ccdata"
   ]
  },
  {
   "cell_type": "markdown",
   "id": "a43f6ecc",
   "metadata": {},
   "source": [
    "#### Now to know the \"closing price\" of each day we will import STOCK PRICE DATA for UNITED AIRLINES from \"yahoo.finance\". We will consider \"Close\" price only."
   ]
  },
  {
   "cell_type": "code",
   "execution_count": 27,
   "id": "8ad1bfd7",
   "metadata": {},
   "outputs": [
    {
     "data": {
      "text/html": [
       "<div>\n",
       "<style scoped>\n",
       "    .dataframe tbody tr th:only-of-type {\n",
       "        vertical-align: middle;\n",
       "    }\n",
       "\n",
       "    .dataframe tbody tr th {\n",
       "        vertical-align: top;\n",
       "    }\n",
       "\n",
       "    .dataframe thead th {\n",
       "        text-align: right;\n",
       "    }\n",
       "</style>\n",
       "<table border=\"1\" class=\"dataframe\">\n",
       "  <thead>\n",
       "    <tr style=\"text-align: right;\">\n",
       "      <th></th>\n",
       "      <th>Date</th>\n",
       "      <th>Open</th>\n",
       "      <th>High</th>\n",
       "      <th>Low</th>\n",
       "      <th>Close</th>\n",
       "      <th>Adj Close</th>\n",
       "      <th>Volume</th>\n",
       "    </tr>\n",
       "  </thead>\n",
       "  <tbody>\n",
       "    <tr>\n",
       "      <th>0</th>\n",
       "      <td>2020-09-01</td>\n",
       "      <td>35.250000</td>\n",
       "      <td>37.240002</td>\n",
       "      <td>34.950001</td>\n",
       "      <td>36.009998</td>\n",
       "      <td>36.009998</td>\n",
       "      <td>29722200</td>\n",
       "    </tr>\n",
       "    <tr>\n",
       "      <th>1</th>\n",
       "      <td>2020-09-02</td>\n",
       "      <td>36.099998</td>\n",
       "      <td>37.099998</td>\n",
       "      <td>35.209999</td>\n",
       "      <td>36.889999</td>\n",
       "      <td>36.889999</td>\n",
       "      <td>26622800</td>\n",
       "    </tr>\n",
       "    <tr>\n",
       "      <th>2</th>\n",
       "      <td>2020-09-03</td>\n",
       "      <td>37.130001</td>\n",
       "      <td>39.770000</td>\n",
       "      <td>36.139999</td>\n",
       "      <td>37.400002</td>\n",
       "      <td>37.400002</td>\n",
       "      <td>53966400</td>\n",
       "    </tr>\n",
       "    <tr>\n",
       "      <th>3</th>\n",
       "      <td>2020-09-04</td>\n",
       "      <td>38.150002</td>\n",
       "      <td>38.740002</td>\n",
       "      <td>36.459999</td>\n",
       "      <td>38.209999</td>\n",
       "      <td>38.209999</td>\n",
       "      <td>33121600</td>\n",
       "    </tr>\n",
       "    <tr>\n",
       "      <th>4</th>\n",
       "      <td>2020-09-08</td>\n",
       "      <td>37.299999</td>\n",
       "      <td>38.480000</td>\n",
       "      <td>36.480000</td>\n",
       "      <td>37.279999</td>\n",
       "      <td>37.279999</td>\n",
       "      <td>33207100</td>\n",
       "    </tr>\n",
       "    <tr>\n",
       "      <th>...</th>\n",
       "      <td>...</td>\n",
       "      <td>...</td>\n",
       "      <td>...</td>\n",
       "      <td>...</td>\n",
       "      <td>...</td>\n",
       "      <td>...</td>\n",
       "      <td>...</td>\n",
       "    </tr>\n",
       "    <tr>\n",
       "      <th>261</th>\n",
       "      <td>2021-09-15</td>\n",
       "      <td>43.650002</td>\n",
       "      <td>43.910000</td>\n",
       "      <td>43.020000</td>\n",
       "      <td>43.860001</td>\n",
       "      <td>43.860001</td>\n",
       "      <td>10321600</td>\n",
       "    </tr>\n",
       "    <tr>\n",
       "      <th>262</th>\n",
       "      <td>2021-09-16</td>\n",
       "      <td>43.860001</td>\n",
       "      <td>45.410000</td>\n",
       "      <td>43.849998</td>\n",
       "      <td>44.470001</td>\n",
       "      <td>44.470001</td>\n",
       "      <td>12204300</td>\n",
       "    </tr>\n",
       "    <tr>\n",
       "      <th>263</th>\n",
       "      <td>2021-09-17</td>\n",
       "      <td>44.779999</td>\n",
       "      <td>45.500000</td>\n",
       "      <td>44.110001</td>\n",
       "      <td>44.540001</td>\n",
       "      <td>44.540001</td>\n",
       "      <td>11733300</td>\n",
       "    </tr>\n",
       "    <tr>\n",
       "      <th>264</th>\n",
       "      <td>2021-09-20</td>\n",
       "      <td>44.759998</td>\n",
       "      <td>45.340000</td>\n",
       "      <td>43.590000</td>\n",
       "      <td>45.270000</td>\n",
       "      <td>45.270000</td>\n",
       "      <td>14700300</td>\n",
       "    </tr>\n",
       "    <tr>\n",
       "      <th>265</th>\n",
       "      <td>2021-09-21</td>\n",
       "      <td>45.500000</td>\n",
       "      <td>46.259998</td>\n",
       "      <td>44.279999</td>\n",
       "      <td>44.450001</td>\n",
       "      <td>44.450001</td>\n",
       "      <td>12207000</td>\n",
       "    </tr>\n",
       "  </tbody>\n",
       "</table>\n",
       "<p>266 rows × 7 columns</p>\n",
       "</div>"
      ],
      "text/plain": [
       "           Date       Open       High        Low      Close  Adj Close  \\\n",
       "0    2020-09-01  35.250000  37.240002  34.950001  36.009998  36.009998   \n",
       "1    2020-09-02  36.099998  37.099998  35.209999  36.889999  36.889999   \n",
       "2    2020-09-03  37.130001  39.770000  36.139999  37.400002  37.400002   \n",
       "3    2020-09-04  38.150002  38.740002  36.459999  38.209999  38.209999   \n",
       "4    2020-09-08  37.299999  38.480000  36.480000  37.279999  37.279999   \n",
       "..          ...        ...        ...        ...        ...        ...   \n",
       "261  2021-09-15  43.650002  43.910000  43.020000  43.860001  43.860001   \n",
       "262  2021-09-16  43.860001  45.410000  43.849998  44.470001  44.470001   \n",
       "263  2021-09-17  44.779999  45.500000  44.110001  44.540001  44.540001   \n",
       "264  2021-09-20  44.759998  45.340000  43.590000  45.270000  45.270000   \n",
       "265  2021-09-21  45.500000  46.259998  44.279999  44.450001  44.450001   \n",
       "\n",
       "       Volume  \n",
       "0    29722200  \n",
       "1    26622800  \n",
       "2    53966400  \n",
       "3    33121600  \n",
       "4    33207100  \n",
       "..        ...  \n",
       "261  10321600  \n",
       "262  12204300  \n",
       "263  11733300  \n",
       "264  14700300  \n",
       "265  12207000  \n",
       "\n",
       "[266 rows x 7 columns]"
      ]
     },
     "execution_count": 27,
     "metadata": {},
     "output_type": "execute_result"
    }
   ],
   "source": [
    "read_stock_p=pd.read_csv(\"data/UAL.csv\")\n",
    "read_stock_p"
   ]
  },
  {
   "cell_type": "markdown",
   "id": "6a7afe99",
   "metadata": {},
   "source": [
    "#### Adding a \"Price\" column in our dataframe and fetching the stock price as per the date in our dataframe."
   ]
  },
  {
   "cell_type": "code",
   "execution_count": 28,
   "id": "2ad1792c",
   "metadata": {},
   "outputs": [],
   "source": [
    "ccdata['Prices']=\"\""
   ]
  },
  {
   "cell_type": "code",
   "execution_count": 29,
   "id": "8d1d490a",
   "metadata": {},
   "outputs": [],
   "source": [
    "indx=0\n",
    "for i in range (0,len(ccdata)):\n",
    "    for j in range (0,len(read_stock_p)):\n",
    "        get_tweet_date=ccdata.Date.iloc[i]\n",
    "        get_stock_date=read_stock_p.Date.iloc[j]\n",
    "        if(str(get_stock_date)==str(get_tweet_date)):\n",
    "            #print(get_stock_date,\" \",get_tweet_date)\n",
    "            # ccdata.set_value(i,'Prices',int(read_stock_p.Close[j]))\n",
    "            ccdata['Prices'].iloc[i] = int(read_stock_p.Close[j])"
   ]
  },
  {
   "cell_type": "markdown",
   "id": "18753578",
   "metadata": {},
   "source": [
    "Prices are fetched but some entires are blank as close price might not be available for that day due to some reason (like holiday, etc.)"
   ]
  },
  {
   "cell_type": "code",
   "execution_count": 30,
   "id": "4af425dd",
   "metadata": {},
   "outputs": [
    {
     "data": {
      "text/html": [
       "<div>\n",
       "<style scoped>\n",
       "    .dataframe tbody tr th:only-of-type {\n",
       "        vertical-align: middle;\n",
       "    }\n",
       "\n",
       "    .dataframe tbody tr th {\n",
       "        vertical-align: top;\n",
       "    }\n",
       "\n",
       "    .dataframe thead th {\n",
       "        text-align: right;\n",
       "    }\n",
       "</style>\n",
       "<table border=\"1\" class=\"dataframe\">\n",
       "  <thead>\n",
       "    <tr style=\"text-align: right;\">\n",
       "      <th></th>\n",
       "      <th>Date</th>\n",
       "      <th>Tweets</th>\n",
       "      <th>Prices</th>\n",
       "    </tr>\n",
       "  </thead>\n",
       "  <tbody>\n",
       "    <tr>\n",
       "      <th>0</th>\n",
       "      <td>2023-06-14</td>\n",
       "      <td>Take flight to your dream destinations  Enjoy...</td>\n",
       "      <td></td>\n",
       "    </tr>\n",
       "    <tr>\n",
       "      <th>1</th>\n",
       "      <td>2023-06-13</td>\n",
       "      <td>My day keeps getting better George Don amp Je...</td>\n",
       "      <td></td>\n",
       "    </tr>\n",
       "    <tr>\n",
       "      <th>2</th>\n",
       "      <td>2023-06-12</td>\n",
       "      <td>One thing I can guarantee is that united exec...</td>\n",
       "      <td></td>\n",
       "    </tr>\n",
       "    <tr>\n",
       "      <th>3</th>\n",
       "      <td>2023-06-11</td>\n",
       "      <td>Entitlement doesnt get ANY worse than this Un...</td>\n",
       "      <td></td>\n",
       "    </tr>\n",
       "    <tr>\n",
       "      <th>4</th>\n",
       "      <td>2023-06-10</td>\n",
       "      <td>UnitedAirlines Given the cost of my ticket am...</td>\n",
       "      <td></td>\n",
       "    </tr>\n",
       "    <tr>\n",
       "      <th>5</th>\n",
       "      <td>2023-06-09</td>\n",
       "      <td>Excited to be flying back home to Hawaii in f...</td>\n",
       "      <td></td>\n",
       "    </tr>\n",
       "    <tr>\n",
       "      <th>6</th>\n",
       "      <td>2023-06-08</td>\n",
       "      <td>ICAO A05A25Flt UAL549 UnitedAirlines BOSORDFi...</td>\n",
       "      <td></td>\n",
       "    </tr>\n",
       "    <tr>\n",
       "      <th>7</th>\n",
       "      <td>2023-06-07</td>\n",
       "      <td>United Airlines flight diverted then stuck on...</td>\n",
       "      <td></td>\n",
       "    </tr>\n",
       "    <tr>\n",
       "      <th>8</th>\n",
       "      <td>2023-06-06</td>\n",
       "      <td>Get Comfortable United Airlines Longest Route...</td>\n",
       "      <td></td>\n",
       "    </tr>\n",
       "    <tr>\n",
       "      <th>9</th>\n",
       "      <td>2023-06-05</td>\n",
       "      <td>RT JaspreetTravels Peep the fitting taxiway n...</td>\n",
       "      <td></td>\n",
       "    </tr>\n",
       "  </tbody>\n",
       "</table>\n",
       "</div>"
      ],
      "text/plain": [
       "         Date                                             Tweets Prices\n",
       "0  2023-06-14   Take flight to your dream destinations  Enjoy...       \n",
       "1  2023-06-13   My day keeps getting better George Don amp Je...       \n",
       "2  2023-06-12   One thing I can guarantee is that united exec...       \n",
       "3  2023-06-11   Entitlement doesnt get ANY worse than this Un...       \n",
       "4  2023-06-10   UnitedAirlines Given the cost of my ticket am...       \n",
       "5  2023-06-09   Excited to be flying back home to Hawaii in f...       \n",
       "6  2023-06-08   ICAO A05A25Flt UAL549 UnitedAirlines BOSORDFi...       \n",
       "7  2023-06-07   United Airlines flight diverted then stuck on...       \n",
       "8  2023-06-06   Get Comfortable United Airlines Longest Route...       \n",
       "9  2023-06-05   RT JaspreetTravels Peep the fitting taxiway n...       "
      ]
     },
     "execution_count": 30,
     "metadata": {},
     "output_type": "execute_result"
    }
   ],
   "source": [
    "ccdata"
   ]
  },
  {
   "cell_type": "markdown",
   "id": "c2a0d7c6",
   "metadata": {},
   "source": [
    "So we take the mean for the close price and put it in the blank value"
   ]
  },
  {
   "cell_type": "code",
   "execution_count": 33,
   "id": "a0172a6b",
   "metadata": {},
   "outputs": [],
   "source": [
    "mean = 0\n",
    "summ = 0\n",
    "count = 0\n",
    "\n",
    "for i in range(len(ccdata)):\n",
    "    if ccdata.Prices.iloc[i] != \"\":\n",
    "        summ += int(ccdata.Prices.iloc[i])\n",
    "        count += 1\n",
    "\n",
    "if count != 0:\n",
    "    mean = summ / count\n",
    "else:\n",
    "    # Handle the scenario when count is zero\n",
    "    mean = 0  # Assigning a default value\n",
    "\n",
    "for i in range(len(ccdata)):\n",
    "    if ccdata.Prices.iloc[i] == \"\":\n",
    "        ccdata.Prices.iloc[i] = int(mean)\n"
   ]
  },
  {
   "cell_type": "markdown",
   "id": "29bbcc04",
   "metadata": {},
   "source": [
    "## Prices are fetched but some entires are blank as close price might not be available for that day due to some reason (like holiday, etc.)"
   ]
  },
  {
   "cell_type": "code",
   "execution_count": 34,
   "id": "17a00fe1",
   "metadata": {},
   "outputs": [
    {
     "data": {
      "text/html": [
       "<div>\n",
       "<style scoped>\n",
       "    .dataframe tbody tr th:only-of-type {\n",
       "        vertical-align: middle;\n",
       "    }\n",
       "\n",
       "    .dataframe tbody tr th {\n",
       "        vertical-align: top;\n",
       "    }\n",
       "\n",
       "    .dataframe thead th {\n",
       "        text-align: right;\n",
       "    }\n",
       "</style>\n",
       "<table border=\"1\" class=\"dataframe\">\n",
       "  <thead>\n",
       "    <tr style=\"text-align: right;\">\n",
       "      <th></th>\n",
       "      <th>Date</th>\n",
       "      <th>Tweets</th>\n",
       "      <th>Prices</th>\n",
       "    </tr>\n",
       "  </thead>\n",
       "  <tbody>\n",
       "    <tr>\n",
       "      <th>0</th>\n",
       "      <td>2023-06-14</td>\n",
       "      <td>Take flight to your dream destinations  Enjoy...</td>\n",
       "      <td>0</td>\n",
       "    </tr>\n",
       "    <tr>\n",
       "      <th>1</th>\n",
       "      <td>2023-06-13</td>\n",
       "      <td>My day keeps getting better George Don amp Je...</td>\n",
       "      <td>0</td>\n",
       "    </tr>\n",
       "    <tr>\n",
       "      <th>2</th>\n",
       "      <td>2023-06-12</td>\n",
       "      <td>One thing I can guarantee is that united exec...</td>\n",
       "      <td>0</td>\n",
       "    </tr>\n",
       "    <tr>\n",
       "      <th>3</th>\n",
       "      <td>2023-06-11</td>\n",
       "      <td>Entitlement doesnt get ANY worse than this Un...</td>\n",
       "      <td>0</td>\n",
       "    </tr>\n",
       "    <tr>\n",
       "      <th>4</th>\n",
       "      <td>2023-06-10</td>\n",
       "      <td>UnitedAirlines Given the cost of my ticket am...</td>\n",
       "      <td>0</td>\n",
       "    </tr>\n",
       "    <tr>\n",
       "      <th>5</th>\n",
       "      <td>2023-06-09</td>\n",
       "      <td>Excited to be flying back home to Hawaii in f...</td>\n",
       "      <td>0</td>\n",
       "    </tr>\n",
       "    <tr>\n",
       "      <th>6</th>\n",
       "      <td>2023-06-08</td>\n",
       "      <td>ICAO A05A25Flt UAL549 UnitedAirlines BOSORDFi...</td>\n",
       "      <td>0</td>\n",
       "    </tr>\n",
       "    <tr>\n",
       "      <th>7</th>\n",
       "      <td>2023-06-07</td>\n",
       "      <td>United Airlines flight diverted then stuck on...</td>\n",
       "      <td>0</td>\n",
       "    </tr>\n",
       "    <tr>\n",
       "      <th>8</th>\n",
       "      <td>2023-06-06</td>\n",
       "      <td>Get Comfortable United Airlines Longest Route...</td>\n",
       "      <td>0</td>\n",
       "    </tr>\n",
       "    <tr>\n",
       "      <th>9</th>\n",
       "      <td>2023-06-05</td>\n",
       "      <td>RT JaspreetTravels Peep the fitting taxiway n...</td>\n",
       "      <td>0</td>\n",
       "    </tr>\n",
       "  </tbody>\n",
       "</table>\n",
       "</div>"
      ],
      "text/plain": [
       "         Date                                             Tweets Prices\n",
       "0  2023-06-14   Take flight to your dream destinations  Enjoy...      0\n",
       "1  2023-06-13   My day keeps getting better George Don amp Je...      0\n",
       "2  2023-06-12   One thing I can guarantee is that united exec...      0\n",
       "3  2023-06-11   Entitlement doesnt get ANY worse than this Un...      0\n",
       "4  2023-06-10   UnitedAirlines Given the cost of my ticket am...      0\n",
       "5  2023-06-09   Excited to be flying back home to Hawaii in f...      0\n",
       "6  2023-06-08   ICAO A05A25Flt UAL549 UnitedAirlines BOSORDFi...      0\n",
       "7  2023-06-07   United Airlines flight diverted then stuck on...      0\n",
       "8  2023-06-06   Get Comfortable United Airlines Longest Route...      0\n",
       "9  2023-06-05   RT JaspreetTravels Peep the fitting taxiway n...      0"
      ]
     },
     "execution_count": 34,
     "metadata": {},
     "output_type": "execute_result"
    }
   ],
   "source": [
    "ccdata"
   ]
  },
  {
   "cell_type": "markdown",
   "id": "85753985",
   "metadata": {},
   "source": [
    "So we take the mean for the close price and put it in the blank value"
   ]
  },
  {
   "cell_type": "code",
   "execution_count": 35,
   "id": "405f0b26",
   "metadata": {},
   "outputs": [],
   "source": [
    "mean=0\n",
    "summ=0\n",
    "count=0\n",
    "for i in range(0,len(ccdata)):\n",
    "    if(ccdata.Prices.iloc[i]!=\"\"):\n",
    "        summ=summ+int(ccdata.Prices.iloc[i])\n",
    "        count=count+1\n",
    "mean=summ/count\n",
    "for i in range(0,len(ccdata)):\n",
    "    if(ccdata.Prices.iloc[i]==\"\"):\n",
    "        ccdata.Prices.iloc[i]=int(mean)"
   ]
  },
  {
   "cell_type": "markdown",
   "id": "0a511ee6",
   "metadata": {},
   "source": [
    "Now all the entries have some value"
   ]
  },
  {
   "cell_type": "code",
   "execution_count": 37,
   "id": "0f34845e",
   "metadata": {},
   "outputs": [
    {
     "data": {
      "text/html": [
       "<div>\n",
       "<style scoped>\n",
       "    .dataframe tbody tr th:only-of-type {\n",
       "        vertical-align: middle;\n",
       "    }\n",
       "\n",
       "    .dataframe tbody tr th {\n",
       "        vertical-align: top;\n",
       "    }\n",
       "\n",
       "    .dataframe thead th {\n",
       "        text-align: right;\n",
       "    }\n",
       "</style>\n",
       "<table border=\"1\" class=\"dataframe\">\n",
       "  <thead>\n",
       "    <tr style=\"text-align: right;\">\n",
       "      <th></th>\n",
       "      <th>Date</th>\n",
       "      <th>Tweets</th>\n",
       "      <th>Prices</th>\n",
       "    </tr>\n",
       "  </thead>\n",
       "  <tbody>\n",
       "    <tr>\n",
       "      <th>0</th>\n",
       "      <td>2023-06-14</td>\n",
       "      <td>Take flight to your dream destinations  Enjoy...</td>\n",
       "      <td>0</td>\n",
       "    </tr>\n",
       "    <tr>\n",
       "      <th>1</th>\n",
       "      <td>2023-06-13</td>\n",
       "      <td>My day keeps getting better George Don amp Je...</td>\n",
       "      <td>0</td>\n",
       "    </tr>\n",
       "    <tr>\n",
       "      <th>2</th>\n",
       "      <td>2023-06-12</td>\n",
       "      <td>One thing I can guarantee is that united exec...</td>\n",
       "      <td>0</td>\n",
       "    </tr>\n",
       "    <tr>\n",
       "      <th>3</th>\n",
       "      <td>2023-06-11</td>\n",
       "      <td>Entitlement doesnt get ANY worse than this Un...</td>\n",
       "      <td>0</td>\n",
       "    </tr>\n",
       "    <tr>\n",
       "      <th>4</th>\n",
       "      <td>2023-06-10</td>\n",
       "      <td>UnitedAirlines Given the cost of my ticket am...</td>\n",
       "      <td>0</td>\n",
       "    </tr>\n",
       "    <tr>\n",
       "      <th>5</th>\n",
       "      <td>2023-06-09</td>\n",
       "      <td>Excited to be flying back home to Hawaii in f...</td>\n",
       "      <td>0</td>\n",
       "    </tr>\n",
       "    <tr>\n",
       "      <th>6</th>\n",
       "      <td>2023-06-08</td>\n",
       "      <td>ICAO A05A25Flt UAL549 UnitedAirlines BOSORDFi...</td>\n",
       "      <td>0</td>\n",
       "    </tr>\n",
       "    <tr>\n",
       "      <th>7</th>\n",
       "      <td>2023-06-07</td>\n",
       "      <td>United Airlines flight diverted then stuck on...</td>\n",
       "      <td>0</td>\n",
       "    </tr>\n",
       "    <tr>\n",
       "      <th>8</th>\n",
       "      <td>2023-06-06</td>\n",
       "      <td>Get Comfortable United Airlines Longest Route...</td>\n",
       "      <td>0</td>\n",
       "    </tr>\n",
       "    <tr>\n",
       "      <th>9</th>\n",
       "      <td>2023-06-05</td>\n",
       "      <td>RT JaspreetTravels Peep the fitting taxiway n...</td>\n",
       "      <td>0</td>\n",
       "    </tr>\n",
       "  </tbody>\n",
       "</table>\n",
       "</div>"
      ],
      "text/plain": [
       "         Date                                             Tweets Prices\n",
       "0  2023-06-14   Take flight to your dream destinations  Enjoy...      0\n",
       "1  2023-06-13   My day keeps getting better George Don amp Je...      0\n",
       "2  2023-06-12   One thing I can guarantee is that united exec...      0\n",
       "3  2023-06-11   Entitlement doesnt get ANY worse than this Un...      0\n",
       "4  2023-06-10   UnitedAirlines Given the cost of my ticket am...      0\n",
       "5  2023-06-09   Excited to be flying back home to Hawaii in f...      0\n",
       "6  2023-06-08   ICAO A05A25Flt UAL549 UnitedAirlines BOSORDFi...      0\n",
       "7  2023-06-07   United Airlines flight diverted then stuck on...      0\n",
       "8  2023-06-06   Get Comfortable United Airlines Longest Route...      0\n",
       "9  2023-06-05   RT JaspreetTravels Peep the fitting taxiway n...      0"
      ]
     },
     "execution_count": 37,
     "metadata": {},
     "output_type": "execute_result"
    }
   ],
   "source": [
    "ccdata"
   ]
  },
  {
   "cell_type": "markdown",
   "id": "41319d65",
   "metadata": {},
   "source": [
    "## Making \"prices\" column as integer so mathematical operations could be performed easily."
   ]
  },
  {
   "cell_type": "code",
   "execution_count": 38,
   "id": "386af208",
   "metadata": {},
   "outputs": [],
   "source": [
    "ccdata['Prices'] = ccdata['Prices'].apply(np.int64)\n"
   ]
  },
  {
   "cell_type": "markdown",
   "id": "3e9346ee",
   "metadata": {},
   "source": [
    "Adding 4 new columns in our dataframe so that sentiment analysis could be performed.. Comp is \"Compound\" it will tell whether the statement is overall negative or positive. If it has negative value then it is negative, if it has positive value then it is positive. If it has value 0, then it is neutral."
   ]
  },
  {
   "cell_type": "code",
   "execution_count": 40,
   "id": "de622c85",
   "metadata": {},
   "outputs": [
    {
     "data": {
      "text/html": [
       "<div>\n",
       "<style scoped>\n",
       "    .dataframe tbody tr th:only-of-type {\n",
       "        vertical-align: middle;\n",
       "    }\n",
       "\n",
       "    .dataframe tbody tr th {\n",
       "        vertical-align: top;\n",
       "    }\n",
       "\n",
       "    .dataframe thead th {\n",
       "        text-align: right;\n",
       "    }\n",
       "</style>\n",
       "<table border=\"1\" class=\"dataframe\">\n",
       "  <thead>\n",
       "    <tr style=\"text-align: right;\">\n",
       "      <th></th>\n",
       "      <th>Date</th>\n",
       "      <th>Tweets</th>\n",
       "      <th>Prices</th>\n",
       "      <th>Comp</th>\n",
       "      <th>Negative</th>\n",
       "      <th>Neutral</th>\n",
       "      <th>Positive</th>\n",
       "    </tr>\n",
       "  </thead>\n",
       "  <tbody>\n",
       "    <tr>\n",
       "      <th>0</th>\n",
       "      <td>2023-06-14</td>\n",
       "      <td>Take flight to your dream destinations  Enjoy...</td>\n",
       "      <td>0</td>\n",
       "      <td></td>\n",
       "      <td></td>\n",
       "      <td></td>\n",
       "      <td></td>\n",
       "    </tr>\n",
       "    <tr>\n",
       "      <th>1</th>\n",
       "      <td>2023-06-13</td>\n",
       "      <td>My day keeps getting better George Don amp Je...</td>\n",
       "      <td>0</td>\n",
       "      <td></td>\n",
       "      <td></td>\n",
       "      <td></td>\n",
       "      <td></td>\n",
       "    </tr>\n",
       "    <tr>\n",
       "      <th>2</th>\n",
       "      <td>2023-06-12</td>\n",
       "      <td>One thing I can guarantee is that united exec...</td>\n",
       "      <td>0</td>\n",
       "      <td></td>\n",
       "      <td></td>\n",
       "      <td></td>\n",
       "      <td></td>\n",
       "    </tr>\n",
       "    <tr>\n",
       "      <th>3</th>\n",
       "      <td>2023-06-11</td>\n",
       "      <td>Entitlement doesnt get ANY worse than this Un...</td>\n",
       "      <td>0</td>\n",
       "      <td></td>\n",
       "      <td></td>\n",
       "      <td></td>\n",
       "      <td></td>\n",
       "    </tr>\n",
       "    <tr>\n",
       "      <th>4</th>\n",
       "      <td>2023-06-10</td>\n",
       "      <td>UnitedAirlines Given the cost of my ticket am...</td>\n",
       "      <td>0</td>\n",
       "      <td></td>\n",
       "      <td></td>\n",
       "      <td></td>\n",
       "      <td></td>\n",
       "    </tr>\n",
       "    <tr>\n",
       "      <th>5</th>\n",
       "      <td>2023-06-09</td>\n",
       "      <td>Excited to be flying back home to Hawaii in f...</td>\n",
       "      <td>0</td>\n",
       "      <td></td>\n",
       "      <td></td>\n",
       "      <td></td>\n",
       "      <td></td>\n",
       "    </tr>\n",
       "    <tr>\n",
       "      <th>6</th>\n",
       "      <td>2023-06-08</td>\n",
       "      <td>ICAO A05A25Flt UAL549 UnitedAirlines BOSORDFi...</td>\n",
       "      <td>0</td>\n",
       "      <td></td>\n",
       "      <td></td>\n",
       "      <td></td>\n",
       "      <td></td>\n",
       "    </tr>\n",
       "    <tr>\n",
       "      <th>7</th>\n",
       "      <td>2023-06-07</td>\n",
       "      <td>United Airlines flight diverted then stuck on...</td>\n",
       "      <td>0</td>\n",
       "      <td></td>\n",
       "      <td></td>\n",
       "      <td></td>\n",
       "      <td></td>\n",
       "    </tr>\n",
       "    <tr>\n",
       "      <th>8</th>\n",
       "      <td>2023-06-06</td>\n",
       "      <td>Get Comfortable United Airlines Longest Route...</td>\n",
       "      <td>0</td>\n",
       "      <td></td>\n",
       "      <td></td>\n",
       "      <td></td>\n",
       "      <td></td>\n",
       "    </tr>\n",
       "    <tr>\n",
       "      <th>9</th>\n",
       "      <td>2023-06-05</td>\n",
       "      <td>RT JaspreetTravels Peep the fitting taxiway n...</td>\n",
       "      <td>0</td>\n",
       "      <td></td>\n",
       "      <td></td>\n",
       "      <td></td>\n",
       "      <td></td>\n",
       "    </tr>\n",
       "  </tbody>\n",
       "</table>\n",
       "</div>"
      ],
      "text/plain": [
       "         Date                                             Tweets  Prices Comp  \\\n",
       "0  2023-06-14   Take flight to your dream destinations  Enjoy...       0        \n",
       "1  2023-06-13   My day keeps getting better George Don amp Je...       0        \n",
       "2  2023-06-12   One thing I can guarantee is that united exec...       0        \n",
       "3  2023-06-11   Entitlement doesnt get ANY worse than this Un...       0        \n",
       "4  2023-06-10   UnitedAirlines Given the cost of my ticket am...       0        \n",
       "5  2023-06-09   Excited to be flying back home to Hawaii in f...       0        \n",
       "6  2023-06-08   ICAO A05A25Flt UAL549 UnitedAirlines BOSORDFi...       0        \n",
       "7  2023-06-07   United Airlines flight diverted then stuck on...       0        \n",
       "8  2023-06-06   Get Comfortable United Airlines Longest Route...       0        \n",
       "9  2023-06-05   RT JaspreetTravels Peep the fitting taxiway n...       0        \n",
       "\n",
       "  Negative Neutral Positive  \n",
       "0                            \n",
       "1                            \n",
       "2                            \n",
       "3                            \n",
       "4                            \n",
       "5                            \n",
       "6                            \n",
       "7                            \n",
       "8                            \n",
       "9                            "
      ]
     },
     "execution_count": 40,
     "metadata": {},
     "output_type": "execute_result"
    }
   ],
   "source": [
    "ccdata[\"Comp\"] = ''\n",
    "ccdata[\"Negative\"] = ''\n",
    "ccdata[\"Neutral\"] = ''\n",
    "ccdata[\"Positive\"] = ''\n",
    "ccdata"
   ]
  },
  {
   "cell_type": "markdown",
   "id": "4421cbd6",
   "metadata": {},
   "source": [
    "## Downloading this package was essential to perform sentiment analysis."
   ]
  },
  {
   "cell_type": "code",
   "execution_count": 42,
   "id": "9c8371f4",
   "metadata": {},
   "outputs": [
    {
     "name": "stderr",
     "output_type": "stream",
     "text": [
      "[nltk_data] Downloading package vader_lexicon to\n",
      "[nltk_data]     C:\\Users\\Hassan\\AppData\\Roaming\\nltk_data...\n"
     ]
    },
    {
     "data": {
      "text/plain": [
       "True"
      ]
     },
     "execution_count": 42,
     "metadata": {},
     "output_type": "execute_result"
    }
   ],
   "source": [
    "import nltk\n",
    "nltk.download('vader_lexicon')"
   ]
  },
  {
   "cell_type": "markdown",
   "id": "8937a0fd",
   "metadata": {},
   "source": [
    "## This part of the code is responsible for assigning the polarity for each statement. That is how much positive, negative, neutral you statement is. And also assign the compound value that is overall sentiment of the statement"
   ]
  },
  {
   "cell_type": "code",
   "execution_count": 45,
   "id": "39438270",
   "metadata": {},
   "outputs": [],
   "source": [
    "from nltk.sentiment.vader import SentimentIntensityAnalyzer\n",
    "import unicodedata\n",
    "\n",
    "sentiment_i_a = SentimentIntensityAnalyzer()\n",
    "\n",
    "for index, row in ccdata.iterrows():\n",
    "    try:\n",
    "        sentence_i = unicodedata.normalize('NFKD', row['Tweets'])\n",
    "        sentence_sentiment = sentiment_i_a.polarity_scores(sentence_i)\n",
    "        ccdata.loc[index, 'Comp'] = sentence_sentiment['compound']\n",
    "        ccdata.loc[index, 'Negative'] = sentence_sentiment['neg']\n",
    "        ccdata.loc[index, 'Neutral'] = sentence_sentiment['neu']\n",
    "        ccdata.loc[index, 'Positive'] = sentence_sentiment['compound']\n",
    "    except TypeError:\n",
    "        print(ccdata.loc[index, 'Tweets'])\n",
    "        print(index)\n"
   ]
  },
  {
   "cell_type": "code",
   "execution_count": 46,
   "id": "d2bcef42",
   "metadata": {},
   "outputs": [
    {
     "data": {
      "text/html": [
       "<div>\n",
       "<style scoped>\n",
       "    .dataframe tbody tr th:only-of-type {\n",
       "        vertical-align: middle;\n",
       "    }\n",
       "\n",
       "    .dataframe tbody tr th {\n",
       "        vertical-align: top;\n",
       "    }\n",
       "\n",
       "    .dataframe thead th {\n",
       "        text-align: right;\n",
       "    }\n",
       "</style>\n",
       "<table border=\"1\" class=\"dataframe\">\n",
       "  <thead>\n",
       "    <tr style=\"text-align: right;\">\n",
       "      <th></th>\n",
       "      <th>Date</th>\n",
       "      <th>Tweets</th>\n",
       "      <th>Prices</th>\n",
       "      <th>Comp</th>\n",
       "      <th>Negative</th>\n",
       "      <th>Neutral</th>\n",
       "      <th>Positive</th>\n",
       "    </tr>\n",
       "  </thead>\n",
       "  <tbody>\n",
       "    <tr>\n",
       "      <th>0</th>\n",
       "      <td>2023-06-14</td>\n",
       "      <td>Take flight to your dream destinations  Enjoy...</td>\n",
       "      <td>0</td>\n",
       "      <td>-0.6379</td>\n",
       "      <td>0.143</td>\n",
       "      <td>0.725</td>\n",
       "      <td>-0.6379</td>\n",
       "    </tr>\n",
       "    <tr>\n",
       "      <th>1</th>\n",
       "      <td>2023-06-13</td>\n",
       "      <td>My day keeps getting better George Don amp Je...</td>\n",
       "      <td>0</td>\n",
       "      <td>0.9991</td>\n",
       "      <td>0.036</td>\n",
       "      <td>0.802</td>\n",
       "      <td>0.9991</td>\n",
       "    </tr>\n",
       "    <tr>\n",
       "      <th>2</th>\n",
       "      <td>2023-06-12</td>\n",
       "      <td>One thing I can guarantee is that united exec...</td>\n",
       "      <td>0</td>\n",
       "      <td>0.9982</td>\n",
       "      <td>0.061</td>\n",
       "      <td>0.783</td>\n",
       "      <td>0.9982</td>\n",
       "    </tr>\n",
       "    <tr>\n",
       "      <th>3</th>\n",
       "      <td>2023-06-11</td>\n",
       "      <td>Entitlement doesnt get ANY worse than this Un...</td>\n",
       "      <td>0</td>\n",
       "      <td>0.9815</td>\n",
       "      <td>0.029</td>\n",
       "      <td>0.834</td>\n",
       "      <td>0.9815</td>\n",
       "    </tr>\n",
       "    <tr>\n",
       "      <th>4</th>\n",
       "      <td>2023-06-10</td>\n",
       "      <td>UnitedAirlines Given the cost of my ticket am...</td>\n",
       "      <td>0</td>\n",
       "      <td>0.9454</td>\n",
       "      <td>0.078</td>\n",
       "      <td>0.81</td>\n",
       "      <td>0.9454</td>\n",
       "    </tr>\n",
       "    <tr>\n",
       "      <th>5</th>\n",
       "      <td>2023-06-09</td>\n",
       "      <td>Excited to be flying back home to Hawaii in f...</td>\n",
       "      <td>0</td>\n",
       "      <td>0.9994</td>\n",
       "      <td>0.06</td>\n",
       "      <td>0.75</td>\n",
       "      <td>0.9994</td>\n",
       "    </tr>\n",
       "    <tr>\n",
       "      <th>6</th>\n",
       "      <td>2023-06-08</td>\n",
       "      <td>ICAO A05A25Flt UAL549 UnitedAirlines BOSORDFi...</td>\n",
       "      <td>0</td>\n",
       "      <td>0.9998</td>\n",
       "      <td>0.04</td>\n",
       "      <td>0.751</td>\n",
       "      <td>0.9998</td>\n",
       "    </tr>\n",
       "    <tr>\n",
       "      <th>7</th>\n",
       "      <td>2023-06-07</td>\n",
       "      <td>United Airlines flight diverted then stuck on...</td>\n",
       "      <td>0</td>\n",
       "      <td>0.9991</td>\n",
       "      <td>0.068</td>\n",
       "      <td>0.751</td>\n",
       "      <td>0.9991</td>\n",
       "    </tr>\n",
       "    <tr>\n",
       "      <th>8</th>\n",
       "      <td>2023-06-06</td>\n",
       "      <td>Get Comfortable United Airlines Longest Route...</td>\n",
       "      <td>0</td>\n",
       "      <td>0.9962</td>\n",
       "      <td>0.04</td>\n",
       "      <td>0.82</td>\n",
       "      <td>0.9962</td>\n",
       "    </tr>\n",
       "    <tr>\n",
       "      <th>9</th>\n",
       "      <td>2023-06-05</td>\n",
       "      <td>RT JaspreetTravels Peep the fitting taxiway n...</td>\n",
       "      <td>0</td>\n",
       "      <td>0.9981</td>\n",
       "      <td>0.033</td>\n",
       "      <td>0.816</td>\n",
       "      <td>0.9981</td>\n",
       "    </tr>\n",
       "  </tbody>\n",
       "</table>\n",
       "</div>"
      ],
      "text/plain": [
       "         Date                                             Tweets  Prices  \\\n",
       "0  2023-06-14   Take flight to your dream destinations  Enjoy...       0   \n",
       "1  2023-06-13   My day keeps getting better George Don amp Je...       0   \n",
       "2  2023-06-12   One thing I can guarantee is that united exec...       0   \n",
       "3  2023-06-11   Entitlement doesnt get ANY worse than this Un...       0   \n",
       "4  2023-06-10   UnitedAirlines Given the cost of my ticket am...       0   \n",
       "5  2023-06-09   Excited to be flying back home to Hawaii in f...       0   \n",
       "6  2023-06-08   ICAO A05A25Flt UAL549 UnitedAirlines BOSORDFi...       0   \n",
       "7  2023-06-07   United Airlines flight diverted then stuck on...       0   \n",
       "8  2023-06-06   Get Comfortable United Airlines Longest Route...       0   \n",
       "9  2023-06-05   RT JaspreetTravels Peep the fitting taxiway n...       0   \n",
       "\n",
       "     Comp Negative Neutral Positive  \n",
       "0 -0.6379    0.143   0.725  -0.6379  \n",
       "1  0.9991    0.036   0.802   0.9991  \n",
       "2  0.9982    0.061   0.783   0.9982  \n",
       "3  0.9815    0.029   0.834   0.9815  \n",
       "4  0.9454    0.078    0.81   0.9454  \n",
       "5  0.9994     0.06    0.75   0.9994  \n",
       "6  0.9998     0.04   0.751   0.9998  \n",
       "7  0.9991    0.068   0.751   0.9991  \n",
       "8  0.9962     0.04    0.82   0.9962  \n",
       "9  0.9981    0.033   0.816   0.9981  "
      ]
     },
     "execution_count": 46,
     "metadata": {},
     "output_type": "execute_result"
    }
   ],
   "source": [
    "ccdata"
   ]
  },
  {
   "cell_type": "markdown",
   "id": "fc9f94b0",
   "metadata": {},
   "source": [
    "#### Calculating the percentage of postive and negative tweets, and plotting the PIE chart for the sam"
   ]
  },
  {
   "cell_type": "code",
   "execution_count": 50,
   "id": "063d50c9",
   "metadata": {},
   "outputs": [
    {
     "name": "stdout",
     "output_type": "stream",
     "text": [
      "% of positive tweets=  90.0\n",
      "% of negative tweets=  10.0\n"
     ]
    },
    {
     "data": {
      "text/plain": [
       "[]"
      ]
     },
     "execution_count": 50,
     "metadata": {},
     "output_type": "execute_result"
    },
    {
     "data": {
      "image/png": "[encoded data removed]",
      "text/plain": [
       "<Figure size 640x480 with 1 Axes>"
      ]
     },
     "metadata": {},
     "output_type": "display_data"
    }
   ],
   "source": [
    "posi=0\n",
    "nega=0\n",
    "for i in range (0,len(ccdata)):\n",
    "    get_val=ccdata.Comp[i]\n",
    "    if(float(get_val)<(0)):\n",
    "        nega=nega+1\n",
    "    if(float(get_val>(0))):\n",
    "        posi=posi+1\n",
    "posper=(posi/(len(ccdata)))*100\n",
    "negper=(nega/(len(ccdata)))*100\n",
    "print(\"% of positive tweets= \",posper)\n",
    "print(\"% of negative tweets= \",negper)\n",
    "arr=np.asarray([posper,negper], dtype=int)\n",
    "mlpt.pie(arr,labels=['positive','negative'])\n",
    "mlpt.plot()"
   ]
  },
  {
   "cell_type": "markdown",
   "id": "f0c7b269",
   "metadata": {},
   "source": [
    "#### Making a new dataframe with necessary columns for providing machine learning."
   ]
  },
  {
   "cell_type": "code",
   "execution_count": 51,
   "id": "040ad3f5",
   "metadata": {},
   "outputs": [],
   "source": [
    "df_=ccdata[['Date','Prices','Comp','Negative','Neutral','Positive']].copy()"
   ]
  },
  {
   "cell_type": "code",
   "execution_count": 52,
   "id": "8491fe3d",
   "metadata": {},
   "outputs": [
    {
     "data": {
      "text/html": [
       "<div>\n",
       "<style scoped>\n",
       "    .dataframe tbody tr th:only-of-type {\n",
       "        vertical-align: middle;\n",
       "    }\n",
       "\n",
       "    .dataframe tbody tr th {\n",
       "        vertical-align: top;\n",
       "    }\n",
       "\n",
       "    .dataframe thead th {\n",
       "        text-align: right;\n",
       "    }\n",
       "</style>\n",
       "<table border=\"1\" class=\"dataframe\">\n",
       "  <thead>\n",
       "    <tr style=\"text-align: right;\">\n",
       "      <th></th>\n",
       "      <th>Date</th>\n",
       "      <th>Prices</th>\n",
       "      <th>Comp</th>\n",
       "      <th>Negative</th>\n",
       "      <th>Neutral</th>\n",
       "      <th>Positive</th>\n",
       "    </tr>\n",
       "  </thead>\n",
       "  <tbody>\n",
       "    <tr>\n",
       "      <th>0</th>\n",
       "      <td>2023-06-14</td>\n",
       "      <td>0</td>\n",
       "      <td>-0.6379</td>\n",
       "      <td>0.143</td>\n",
       "      <td>0.725</td>\n",
       "      <td>-0.6379</td>\n",
       "    </tr>\n",
       "    <tr>\n",
       "      <th>1</th>\n",
       "      <td>2023-06-13</td>\n",
       "      <td>0</td>\n",
       "      <td>0.9991</td>\n",
       "      <td>0.036</td>\n",
       "      <td>0.802</td>\n",
       "      <td>0.9991</td>\n",
       "    </tr>\n",
       "    <tr>\n",
       "      <th>2</th>\n",
       "      <td>2023-06-12</td>\n",
       "      <td>0</td>\n",
       "      <td>0.9982</td>\n",
       "      <td>0.061</td>\n",
       "      <td>0.783</td>\n",
       "      <td>0.9982</td>\n",
       "    </tr>\n",
       "    <tr>\n",
       "      <th>3</th>\n",
       "      <td>2023-06-11</td>\n",
       "      <td>0</td>\n",
       "      <td>0.9815</td>\n",
       "      <td>0.029</td>\n",
       "      <td>0.834</td>\n",
       "      <td>0.9815</td>\n",
       "    </tr>\n",
       "    <tr>\n",
       "      <th>4</th>\n",
       "      <td>2023-06-10</td>\n",
       "      <td>0</td>\n",
       "      <td>0.9454</td>\n",
       "      <td>0.078</td>\n",
       "      <td>0.81</td>\n",
       "      <td>0.9454</td>\n",
       "    </tr>\n",
       "    <tr>\n",
       "      <th>5</th>\n",
       "      <td>2023-06-09</td>\n",
       "      <td>0</td>\n",
       "      <td>0.9994</td>\n",
       "      <td>0.06</td>\n",
       "      <td>0.75</td>\n",
       "      <td>0.9994</td>\n",
       "    </tr>\n",
       "    <tr>\n",
       "      <th>6</th>\n",
       "      <td>2023-06-08</td>\n",
       "      <td>0</td>\n",
       "      <td>0.9998</td>\n",
       "      <td>0.04</td>\n",
       "      <td>0.751</td>\n",
       "      <td>0.9998</td>\n",
       "    </tr>\n",
       "    <tr>\n",
       "      <th>7</th>\n",
       "      <td>2023-06-07</td>\n",
       "      <td>0</td>\n",
       "      <td>0.9991</td>\n",
       "      <td>0.068</td>\n",
       "      <td>0.751</td>\n",
       "      <td>0.9991</td>\n",
       "    </tr>\n",
       "    <tr>\n",
       "      <th>8</th>\n",
       "      <td>2023-06-06</td>\n",
       "      <td>0</td>\n",
       "      <td>0.9962</td>\n",
       "      <td>0.04</td>\n",
       "      <td>0.82</td>\n",
       "      <td>0.9962</td>\n",
       "    </tr>\n",
       "    <tr>\n",
       "      <th>9</th>\n",
       "      <td>2023-06-05</td>\n",
       "      <td>0</td>\n",
       "      <td>0.9981</td>\n",
       "      <td>0.033</td>\n",
       "      <td>0.816</td>\n",
       "      <td>0.9981</td>\n",
       "    </tr>\n",
       "  </tbody>\n",
       "</table>\n",
       "</div>"
      ],
      "text/plain": [
       "         Date  Prices    Comp Negative Neutral Positive\n",
       "0  2023-06-14       0 -0.6379    0.143   0.725  -0.6379\n",
       "1  2023-06-13       0  0.9991    0.036   0.802   0.9991\n",
       "2  2023-06-12       0  0.9982    0.061   0.783   0.9982\n",
       "3  2023-06-11       0  0.9815    0.029   0.834   0.9815\n",
       "4  2023-06-10       0  0.9454    0.078    0.81   0.9454\n",
       "5  2023-06-09       0  0.9994     0.06    0.75   0.9994\n",
       "6  2023-06-08       0  0.9998     0.04   0.751   0.9998\n",
       "7  2023-06-07       0  0.9991    0.068   0.751   0.9991\n",
       "8  2023-06-06       0  0.9962     0.04    0.82   0.9962\n",
       "9  2023-06-05       0  0.9981    0.033   0.816   0.9981"
      ]
     },
     "execution_count": 52,
     "metadata": {},
     "output_type": "execute_result"
    }
   ],
   "source": [
    "df_"
   ]
  },
  {
   "cell_type": "markdown",
   "id": "42b0c79c",
   "metadata": {},
   "source": [
    "Dividing the dataset into train and test."
   ]
  },
  {
   "cell_type": "code",
   "execution_count": 54,
   "id": "8f7570fc",
   "metadata": {},
   "outputs": [],
   "source": [
    "train_start_index = '0'\n",
    "train_end_index = '5'\n",
    "test_start_index = '6'\n",
    "test_end_index = '8'\n",
    "train = df_.loc[train_start_index : train_end_index,:]\n",
    "test = df_.loc[test_start_index:test_end_index,:]"
   ]
  },
  {
   "cell_type": "markdown",
   "id": "a31fe601",
   "metadata": {},
   "source": [
    "#### Making a 2D array that will store the Negative and Positive sentiment for Training dataset."
   ]
  },
  {
   "cell_type": "code",
   "execution_count": 55,
   "id": "fec63397",
   "metadata": {},
   "outputs": [
    {
     "name": "stderr",
     "output_type": "stream",
     "text": [
      "C:\\Users\\Hassan\\AppData\\Local\\Temp\\ipykernel_22240\\3231284935.py:2: FutureWarning: iteritems is deprecated and will be removed in a future version. Use .items instead.\n",
      "  for date, row in train.T.iteritems():\n"
     ]
    }
   ],
   "source": [
    "sentiment_score_list = []\n",
    "for date, row in train.T.iteritems():\n",
    "    sentiment_score = np.asarray([df_.loc[date, 'Negative'],df_.loc[date, 'Positive']])\n",
    "    sentiment_score_list.append(sentiment_score)\n",
    "numpy_df_train = np.asarray(sentiment_score_list)"
   ]
  },
  {
   "cell_type": "code",
   "execution_count": 56,
   "id": "011e36f1",
   "metadata": {},
   "outputs": [
    {
     "name": "stdout",
     "output_type": "stream",
     "text": [
      "[[ 0.143  -0.6379]\n",
      " [ 0.036   0.9991]\n",
      " [ 0.061   0.9982]\n",
      " [ 0.029   0.9815]\n",
      " [ 0.078   0.9454]\n",
      " [ 0.06    0.9994]]\n"
     ]
    }
   ],
   "source": [
    "print(numpy_df_train)"
   ]
  },
  {
   "cell_type": "markdown",
   "id": "ab87785e",
   "metadata": {},
   "source": [
    "#### Making a 2D array that will store the Negative and Positive sentiment for Testing dataset."
   ]
  },
  {
   "cell_type": "code",
   "execution_count": 74,
   "id": "0a008261",
   "metadata": {},
   "outputs": [
    {
     "name": "stdout",
     "output_type": "stream",
     "text": [
      "No data found for date: Date\n",
      "No data found for date: Prices\n",
      "No data found for date: Comp\n",
      "No data found for date: Negative\n",
      "No data found for date: Neutral\n",
      "No data found for date: Positive\n"
     ]
    }
   ],
   "source": [
    "sentiment_score_list = []\n",
    "for date in test.columns:\n",
    "    if date in df_.index:\n",
    "        sentiment_score = np.asarray([df_.loc[date, 'Negative'], df_.loc[date, 'Positive']])\n",
    "        sentiment_score_list.append(sentiment_score)\n",
    "    else:\n",
    "        print(f\"No data found for date: {date}\")\n",
    "numpy_df_test = np.asarray(sentiment_score_list)\n"
   ]
  },
  {
   "cell_type": "code",
   "execution_count": 75,
   "id": "ee5c6e61",
   "metadata": {},
   "outputs": [
    {
     "ename": "NameError",
     "evalue": "name 'c' is not defined",
     "output_type": "error",
     "traceback": [
      "\u001b[1;31m---------------------------------------------------------------------------\u001b[0m",
      "\u001b[1;31mNameError\u001b[0m                                 Traceback (most recent call last)",
      "Cell \u001b[1;32mIn[75], line 1\u001b[0m\n\u001b[1;32m----> 1\u001b[0m c\n",
      "\u001b[1;31mNameError\u001b[0m: name 'c' is not defined"
     ]
    }
   ],
   "source": [
    "c"
   ]
  },
  {
   "cell_type": "markdown",
   "id": "32058f53",
   "metadata": {},
   "source": [
    "#### Making 2 dataframe for Training and Testing \"Prices\". You can also make 1-D array for the same."
   ]
  },
  {
   "cell_type": "code",
   "execution_count": 65,
   "id": "cef56119",
   "metadata": {},
   "outputs": [
    {
     "name": "stdout",
     "output_type": "stream",
     "text": [
      "   Prices\n",
      "0       0\n",
      "1       0\n",
      "2       0\n",
      "3       0\n",
      "4       0\n",
      "5       0\n"
     ]
    }
   ],
   "source": [
    "y_train = pd.DataFrame(train['Prices'])\n",
    "#y_train=[91,91,91,92,91,92,91]\n",
    "y_test = pd.DataFrame(test['Prices'])\n",
    "print(y_train)"
   ]
  },
  {
   "cell_type": "markdown",
   "id": "31bcf87b",
   "metadata": {},
   "source": [
    "#### Fitting the sentiments(this acts as in independent value) and prices(this acts as a dependent value (like class-lables in iris dataset))"
   ]
  },
  {
   "cell_type": "code",
   "execution_count": 66,
   "id": "0b54fc6f",
   "metadata": {},
   "outputs": [
    {
     "name": "stderr",
     "output_type": "stream",
     "text": [
      "C:\\Users\\Hassan\\AppData\\Local\\Temp\\ipykernel_22240\\1504975680.py:7: DataConversionWarning: A column-vector y was passed when a 1d array was expected. Please change the shape of y to (n_samples,), for example using ravel().\n",
      "  rf.fit(numpy_df_train, y_train)\n"
     ]
    },
    {
     "data": {
      "text/html": [
       "<style>#sk-container-id-1 {color: black;background-color: white;}#sk-container-id-1 pre{padding: 0;}#sk-container-id-1 div.sk-toggleable {background-color: white;}#sk-container-id-1 label.sk-toggleable__label {cursor: pointer;display: block;width: 100%;margin-bottom: 0;padding: 0.3em;box-sizing: border-box;text-align: center;}#sk-container-id-1 label.sk-toggleable__label-arrow:before {content: \"▸\";float: left;margin-right: 0.25em;color: #696969;}#sk-container-id-1 label.sk-toggleable__label-arrow:hover:before {color: black;}#sk-container-id-1 div.sk-estimator:hover label.sk-toggleable__label-arrow:before {color: black;}#sk-container-id-1 div.sk-toggleable__content {max-height: 0;max-width: 0;overflow: hidden;text-align: left;background-color: #f0f8ff;}#sk-container-id-1 div.sk-toggleable__content pre {margin: 0.2em;color: black;border-radius: 0.25em;background-color: #f0f8ff;}#sk-container-id-1 input.sk-toggleable__control:checked~div.sk-toggleable__content {max-height: 200px;max-width: 100%;overflow: auto;}#sk-container-id-1 input.sk-toggleable__control:checked~label.sk-toggleable__label-arrow:before {content: \"▾\";}#sk-container-id-1 div.sk-estimator input.sk-toggleable__control:checked~label.sk-toggleable__label {background-color: #d4ebff;}#sk-container-id-1 div.sk-label input.sk-toggleable__control:checked~label.sk-toggleable__label {background-color: #d4ebff;}#sk-container-id-1 input.sk-hidden--visually {border: 0;clip: rect(1px 1px 1px 1px);clip: rect(1px, 1px, 1px, 1px);height: 1px;margin: -1px;overflow: hidden;padding: 0;position: absolute;width: 1px;}#sk-container-id-1 div.sk-estimator {font-family: monospace;background-color: #f0f8ff;border: 1px dotted black;border-radius: 0.25em;box-sizing: border-box;margin-bottom: 0.5em;}#sk-container-id-1 div.sk-estimator:hover {background-color: #d4ebff;}#sk-container-id-1 div.sk-parallel-item::after {content: \"\";width: 100%;border-bottom: 1px solid gray;flex-grow: 1;}#sk-container-id-1 div.sk-label:hover label.sk-toggleable__label {background-color: #d4ebff;}#sk-container-id-1 div.sk-serial::before {content: \"\";position: absolute;border-left: 1px solid gray;box-sizing: border-box;top: 0;bottom: 0;left: 50%;z-index: 0;}#sk-container-id-1 div.sk-serial {display: flex;flex-direction: column;align-items: center;background-color: white;padding-right: 0.2em;padding-left: 0.2em;position: relative;}#sk-container-id-1 div.sk-item {position: relative;z-index: 1;}#sk-container-id-1 div.sk-parallel {display: flex;align-items: stretch;justify-content: center;background-color: white;position: relative;}#sk-container-id-1 div.sk-item::before, #sk-container-id-1 div.sk-parallel-item::before {content: \"\";position: absolute;border-left: 1px solid gray;box-sizing: border-box;top: 0;bottom: 0;left: 50%;z-index: -1;}#sk-container-id-1 div.sk-parallel-item {display: flex;flex-direction: column;z-index: 1;position: relative;background-color: white;}#sk-container-id-1 div.sk-parallel-item:first-child::after {align-self: flex-end;width: 50%;}#sk-container-id-1 div.sk-parallel-item:last-child::after {align-self: flex-start;width: 50%;}#sk-container-id-1 div.sk-parallel-item:only-child::after {width: 0;}#sk-container-id-1 div.sk-dashed-wrapped {border: 1px dashed gray;margin: 0 0.4em 0.5em 0.4em;box-sizing: border-box;padding-bottom: 0.4em;background-color: white;}#sk-container-id-1 div.sk-label label {font-family: monospace;font-weight: bold;display: inline-block;line-height: 1.2em;}#sk-container-id-1 div.sk-label-container {text-align: center;}#sk-container-id-1 div.sk-container {/* jupyter's `normalize.less` sets `[hidden] { display: none; }` but bootstrap.min.css set `[hidden] { display: none !important; }` so we also need the `!important` here to be able to override the default hidden behavior on the sphinx rendered scikit-learn.org. See: https://github.com/scikit-learn/scikit-learn/issues/21755 */display: inline-block !important;position: relative;}#sk-container-id-1 div.sk-text-repr-fallback {display: none;}</style><div id=\"sk-container-id-1\" class=\"sk-top-container\"><div class=\"sk-text-repr-fallback\"><pre>RandomForestRegressor()</pre><b>In a Jupyter environment, please rerun this cell to show the HTML representation or trust the notebook. <br />On GitHub, the HTML representation is unable to render, please try loading this page with nbviewer.org.</b></div><div class=\"sk-container\" hidden><div class=\"sk-item\"><div class=\"sk-estimator sk-toggleable\"><input class=\"sk-toggleable__control sk-hidden--visually\" id=\"sk-estimator-id-1\" type=\"checkbox\" checked><label for=\"sk-estimator-id-1\" class=\"sk-toggleable__label sk-toggleable__label-arrow\">RandomForestRegressor</label><div class=\"sk-toggleable__content\"><pre>RandomForestRegressor()</pre></div></div></div></div></div>"
      ],
      "text/plain": [
       "RandomForestRegressor()"
      ]
     },
     "execution_count": 66,
     "metadata": {},
     "output_type": "execute_result"
    }
   ],
   "source": [
    "# from treeinterpreter import treeinterpreter as ti\n",
    "from sklearn.tree import DecisionTreeRegressor\n",
    "from sklearn.ensemble import RandomForestRegressor\n",
    "from sklearn.metrics import classification_report,confusion_matrix\n",
    "\n",
    "rf = RandomForestRegressor()\n",
    "rf.fit(numpy_df_train, y_train)"
   ]
  },
  {
   "cell_type": "markdown",
   "id": "f48b21f2",
   "metadata": {},
   "source": [
    "Making Predictions"
   ]
  },
  {
   "cell_type": "code",
   "execution_count": 68,
   "id": "b7be515b",
   "metadata": {},
   "outputs": [],
   "source": [
    "prediction = rf.predict(numpy_df_test)"
   ]
  },
  {
   "cell_type": "code",
   "execution_count": 77,
   "id": "a860c46d",
   "metadata": {},
   "outputs": [
    {
     "name": "stdout",
     "output_type": "stream",
     "text": [
      "[0. 0. 0.]\n"
     ]
    }
   ],
   "source": [
    "print(prediction)"
   ]
  },
  {
   "cell_type": "code",
   "execution_count": 70,
   "id": "2717adb8",
   "metadata": {},
   "outputs": [],
   "source": [
    "import matplotlib.pyplot as plt"
   ]
  },
  {
   "cell_type": "code",
   "execution_count": 78,
   "id": "ce0e890e",
   "metadata": {},
   "outputs": [],
   "source": [
    "idx=np.arange(int(test_start_index),int(test_end_index)+1)\n",
    "predictions_df_ = pd.DataFrame(data=prediction[0:], index = idx, columns=['Prices'])"
   ]
  },
  {
   "cell_type": "code",
   "execution_count": 76,
   "id": "b882f322",
   "metadata": {},
   "outputs": [
    {
     "data": {
      "text/html": [
       "<div>\n",
       "<style scoped>\n",
       "    .dataframe tbody tr th:only-of-type {\n",
       "        vertical-align: middle;\n",
       "    }\n",
       "\n",
       "    .dataframe tbody tr th {\n",
       "        vertical-align: top;\n",
       "    }\n",
       "\n",
       "    .dataframe thead th {\n",
       "        text-align: right;\n",
       "    }\n",
       "</style>\n",
       "<table border=\"1\" class=\"dataframe\">\n",
       "  <thead>\n",
       "    <tr style=\"text-align: right;\">\n",
       "      <th></th>\n",
       "      <th>Prices</th>\n",
       "    </tr>\n",
       "  </thead>\n",
       "  <tbody>\n",
       "    <tr>\n",
       "      <th>6</th>\n",
       "      <td>0.0</td>\n",
       "    </tr>\n",
       "    <tr>\n",
       "      <th>7</th>\n",
       "      <td>0.0</td>\n",
       "    </tr>\n",
       "    <tr>\n",
       "      <th>8</th>\n",
       "      <td>0.0</td>\n",
       "    </tr>\n",
       "  </tbody>\n",
       "</table>\n",
       "</div>"
      ],
      "text/plain": [
       "   Prices\n",
       "6     0.0\n",
       "7     0.0\n",
       "8     0.0"
      ]
     },
     "execution_count": 76,
     "metadata": {},
     "output_type": "execute_result"
    }
   ],
   "source": [
    "predictions_df_"
   ]
  },
  {
   "cell_type": "markdown",
   "id": "f6059eb8",
   "metadata": {},
   "source": [
    "#### Fitting the sentiments(this acts as in independent value) and prices(this acts as a dependent value (like class-lables in iris dataset))"
   ]
  },
  {
   "cell_type": "code",
   "execution_count": 79,
   "id": "86a5c772",
   "metadata": {},
   "outputs": [],
   "source": [
    "# from treeinterpreter import treeinterpreter as ti\n",
    "from sklearn.tree import DecisionTreeRegressor\n",
    "from sklearn.ensemble import RandomForestRegressor\n",
    "from sklearn.metrics import classification_report,confusion_matrix\n",
    "\n",
    "rf = RandomForestRegressor()"
   ]
  },
  {
   "cell_type": "code",
   "execution_count": 84,
   "id": "5f3635f0",
   "metadata": {},
   "outputs": [],
   "source": [
    "from sklearn.tree import DecisionTreeRegressor\n",
    "from sklearn.ensemble import RandomForestRegressor\n",
    "from sklearn.metrics import classification_report, confusion_matrix\n",
    "\n",
    "rf = RandomForestRegressor()\n"
   ]
  },
  {
   "cell_type": "code",
   "execution_count": 88,
   "id": "4303e890",
   "metadata": {},
   "outputs": [
    {
     "name": "stdout",
     "output_type": "stream",
     "text": [
      "[0. 0. 0.]\n"
     ]
    }
   ],
   "source": [
    "print(prediction)"
   ]
  },
  {
   "cell_type": "markdown",
   "id": "d2d6ed41",
   "metadata": {},
   "source": [
    "## Plotting the graph for the Predicted_price VS Actual Price\n"
   ]
  },
  {
   "cell_type": "code",
   "execution_count": 89,
   "id": "b40fa21f",
   "metadata": {},
   "outputs": [
    {
     "data": {
      "image/png": "[encoded data removed]",
      "text/plain": [
       "<Figure size 640x480 with 1 Axes>"
      ]
     },
     "metadata": {},
     "output_type": "display_data"
    }
   ],
   "source": [
    "ax = predictions_df_.rename(columns={\"Prices\": \"predicted_price\"}).plot(title='Random Forest predicted prices')#predicted value\n",
    "ax.set_xlabel(\"Indexes\")\n",
    "ax.set_ylabel(\"Stock Prices\")\n",
    "fig = y_test.rename(columns={\"Prices\": \"actual_price\"}).plot(ax = ax).get_figure()#actual value\n",
    "fig.savefig(\"random forest.png\")"
   ]
  },
  {
   "cell_type": "code",
   "execution_count": 91,
   "id": "28ffd310",
   "metadata": {},
   "outputs": [
    {
     "data": {
      "text/html": [
       "<style>#sk-container-id-2 {color: black;background-color: white;}#sk-container-id-2 pre{padding: 0;}#sk-container-id-2 div.sk-toggleable {background-color: white;}#sk-container-id-2 label.sk-toggleable__label {cursor: pointer;display: block;width: 100%;margin-bottom: 0;padding: 0.3em;box-sizing: border-box;text-align: center;}#sk-container-id-2 label.sk-toggleable__label-arrow:before {content: \"▸\";float: left;margin-right: 0.25em;color: #696969;}#sk-container-id-2 label.sk-toggleable__label-arrow:hover:before {color: black;}#sk-container-id-2 div.sk-estimator:hover label.sk-toggleable__label-arrow:before {color: black;}#sk-container-id-2 div.sk-toggleable__content {max-height: 0;max-width: 0;overflow: hidden;text-align: left;background-color: #f0f8ff;}#sk-container-id-2 div.sk-toggleable__content pre {margin: 0.2em;color: black;border-radius: 0.25em;background-color: #f0f8ff;}#sk-container-id-2 input.sk-toggleable__control:checked~div.sk-toggleable__content {max-height: 200px;max-width: 100%;overflow: auto;}#sk-container-id-2 input.sk-toggleable__control:checked~label.sk-toggleable__label-arrow:before {content: \"▾\";}#sk-container-id-2 div.sk-estimator input.sk-toggleable__control:checked~label.sk-toggleable__label {background-color: #d4ebff;}#sk-container-id-2 div.sk-label input.sk-toggleable__control:checked~label.sk-toggleable__label {background-color: #d4ebff;}#sk-container-id-2 input.sk-hidden--visually {border: 0;clip: rect(1px 1px 1px 1px);clip: rect(1px, 1px, 1px, 1px);height: 1px;margin: -1px;overflow: hidden;padding: 0;position: absolute;width: 1px;}#sk-container-id-2 div.sk-estimator {font-family: monospace;background-color: #f0f8ff;border: 1px dotted black;border-radius: 0.25em;box-sizing: border-box;margin-bottom: 0.5em;}#sk-container-id-2 div.sk-estimator:hover {background-color: #d4ebff;}#sk-container-id-2 div.sk-parallel-item::after {content: \"\";width: 100%;border-bottom: 1px solid gray;flex-grow: 1;}#sk-container-id-2 div.sk-label:hover label.sk-toggleable__label {background-color: #d4ebff;}#sk-container-id-2 div.sk-serial::before {content: \"\";position: absolute;border-left: 1px solid gray;box-sizing: border-box;top: 0;bottom: 0;left: 50%;z-index: 0;}#sk-container-id-2 div.sk-serial {display: flex;flex-direction: column;align-items: center;background-color: white;padding-right: 0.2em;padding-left: 0.2em;position: relative;}#sk-container-id-2 div.sk-item {position: relative;z-index: 1;}#sk-container-id-2 div.sk-parallel {display: flex;align-items: stretch;justify-content: center;background-color: white;position: relative;}#sk-container-id-2 div.sk-item::before, #sk-container-id-2 div.sk-parallel-item::before {content: \"\";position: absolute;border-left: 1px solid gray;box-sizing: border-box;top: 0;bottom: 0;left: 50%;z-index: -1;}#sk-container-id-2 div.sk-parallel-item {display: flex;flex-direction: column;z-index: 1;position: relative;background-color: white;}#sk-container-id-2 div.sk-parallel-item:first-child::after {align-self: flex-end;width: 50%;}#sk-container-id-2 div.sk-parallel-item:last-child::after {align-self: flex-start;width: 50%;}#sk-container-id-2 div.sk-parallel-item:only-child::after {width: 0;}#sk-container-id-2 div.sk-dashed-wrapped {border: 1px dashed gray;margin: 0 0.4em 0.5em 0.4em;box-sizing: border-box;padding-bottom: 0.4em;background-color: white;}#sk-container-id-2 div.sk-label label {font-family: monospace;font-weight: bold;display: inline-block;line-height: 1.2em;}#sk-container-id-2 div.sk-label-container {text-align: center;}#sk-container-id-2 div.sk-container {/* jupyter's `normalize.less` sets `[hidden] { display: none; }` but bootstrap.min.css set `[hidden] { display: none !important; }` so we also need the `!important` here to be able to override the default hidden behavior on the sphinx rendered scikit-learn.org. See: https://github.com/scikit-learn/scikit-learn/issues/21755 */display: inline-block !important;position: relative;}#sk-container-id-2 div.sk-text-repr-fallback {display: none;}</style><div id=\"sk-container-id-2\" class=\"sk-top-container\"><div class=\"sk-text-repr-fallback\"><pre>LinearRegression()</pre><b>In a Jupyter environment, please rerun this cell to show the HTML representation or trust the notebook. <br />On GitHub, the HTML representation is unable to render, please try loading this page with nbviewer.org.</b></div><div class=\"sk-container\" hidden><div class=\"sk-item\"><div class=\"sk-estimator sk-toggleable\"><input class=\"sk-toggleable__control sk-hidden--visually\" id=\"sk-estimator-id-2\" type=\"checkbox\" checked><label for=\"sk-estimator-id-2\" class=\"sk-toggleable__label sk-toggleable__label-arrow\">LinearRegression</label><div class=\"sk-toggleable__content\"><pre>LinearRegression()</pre></div></div></div></div></div>"
      ],
      "text/plain": [
       "LinearRegression()"
      ]
     },
     "execution_count": 91,
     "metadata": {},
     "output_type": "execute_result"
    }
   ],
   "source": [
    "# from treeinterpreter import treeinterpreter as ti\n",
    "# from sklearn.tree import DecisionTreeRegressor\n",
    "from sklearn.linear_model import LinearRegression\n",
    "from sklearn.metrics import classification_report,confusion_matrix\n",
    "\n",
    "reg = LinearRegression()\n",
    "reg.fit(numpy_df_train, y_train)"
   ]
  },
  {
   "cell_type": "code",
   "execution_count": 92,
   "id": "2def8f87",
   "metadata": {},
   "outputs": [
    {
     "ename": "ValueError",
     "evalue": "Expected 2D array, got 1D array instead:\narray=[].\nReshape your data either using array.reshape(-1, 1) if your data has a single feature or array.reshape(1, -1) if it contains a single sample.",
     "output_type": "error",
     "traceback": [
      "\u001b[1;31m---------------------------------------------------------------------------\u001b[0m",
      "\u001b[1;31mValueError\u001b[0m                                Traceback (most recent call last)",
      "Cell \u001b[1;32mIn[92], line 1\u001b[0m\n\u001b[1;32m----> 1\u001b[0m reg\u001b[38;5;241m.\u001b[39mpredict(numpy_df_test)\n",
      "File \u001b[1;32m~\\Desktop\\ap1\\stock-price-prediction\\env\\Lib\\site-packages\\sklearn\\linear_model\\_base.py:354\u001b[0m, in \u001b[0;36mLinearModel.predict\u001b[1;34m(self, X)\u001b[0m\n\u001b[0;32m    340\u001b[0m \u001b[38;5;28;01mdef\u001b[39;00m \u001b[38;5;21mpredict\u001b[39m(\u001b[38;5;28mself\u001b[39m, X):\n\u001b[0;32m    341\u001b[0m \u001b[38;5;250m    \u001b[39m\u001b[38;5;124;03m\"\"\"\u001b[39;00m\n\u001b[0;32m    342\u001b[0m \u001b[38;5;124;03m    Predict using the linear model.\u001b[39;00m\n\u001b[0;32m    343\u001b[0m \n\u001b[1;32m   (...)\u001b[0m\n\u001b[0;32m    352\u001b[0m \u001b[38;5;124;03m        Returns predicted values.\u001b[39;00m\n\u001b[0;32m    353\u001b[0m \u001b[38;5;124;03m    \"\"\"\u001b[39;00m\n\u001b[1;32m--> 354\u001b[0m     \u001b[38;5;28;01mreturn\u001b[39;00m \u001b[38;5;28mself\u001b[39m\u001b[38;5;241m.\u001b[39m_decision_function(X)\n",
      "File \u001b[1;32m~\\Desktop\\ap1\\stock-price-prediction\\env\\Lib\\site-packages\\sklearn\\linear_model\\_base.py:337\u001b[0m, in \u001b[0;36mLinearModel._decision_function\u001b[1;34m(self, X)\u001b[0m\n\u001b[0;32m    334\u001b[0m \u001b[38;5;28;01mdef\u001b[39;00m \u001b[38;5;21m_decision_function\u001b[39m(\u001b[38;5;28mself\u001b[39m, X):\n\u001b[0;32m    335\u001b[0m     check_is_fitted(\u001b[38;5;28mself\u001b[39m)\n\u001b[1;32m--> 337\u001b[0m     X \u001b[38;5;241m=\u001b[39m \u001b[38;5;28mself\u001b[39m\u001b[38;5;241m.\u001b[39m_validate_data(X, accept_sparse\u001b[38;5;241m=\u001b[39m[\u001b[38;5;124m\"\u001b[39m\u001b[38;5;124mcsr\u001b[39m\u001b[38;5;124m\"\u001b[39m, \u001b[38;5;124m\"\u001b[39m\u001b[38;5;124mcsc\u001b[39m\u001b[38;5;124m\"\u001b[39m, \u001b[38;5;124m\"\u001b[39m\u001b[38;5;124mcoo\u001b[39m\u001b[38;5;124m\"\u001b[39m], reset\u001b[38;5;241m=\u001b[39m\u001b[38;5;28;01mFalse\u001b[39;00m)\n\u001b[0;32m    338\u001b[0m     \u001b[38;5;28;01mreturn\u001b[39;00m safe_sparse_dot(X, \u001b[38;5;28mself\u001b[39m\u001b[38;5;241m.\u001b[39mcoef_\u001b[38;5;241m.\u001b[39mT, dense_output\u001b[38;5;241m=\u001b[39m\u001b[38;5;28;01mTrue\u001b[39;00m) \u001b[38;5;241m+\u001b[39m \u001b[38;5;28mself\u001b[39m\u001b[38;5;241m.\u001b[39mintercept_\n",
      "File \u001b[1;32m~\\Desktop\\ap1\\stock-price-prediction\\env\\Lib\\site-packages\\sklearn\\base.py:565\u001b[0m, in \u001b[0;36mBaseEstimator._validate_data\u001b[1;34m(self, X, y, reset, validate_separately, **check_params)\u001b[0m\n\u001b[0;32m    563\u001b[0m     \u001b[38;5;28;01mraise\u001b[39;00m \u001b[38;5;167;01mValueError\u001b[39;00m(\u001b[38;5;124m\"\u001b[39m\u001b[38;5;124mValidation should be done on X, y or both.\u001b[39m\u001b[38;5;124m\"\u001b[39m)\n\u001b[0;32m    564\u001b[0m \u001b[38;5;28;01melif\u001b[39;00m \u001b[38;5;129;01mnot\u001b[39;00m no_val_X \u001b[38;5;129;01mand\u001b[39;00m no_val_y:\n\u001b[1;32m--> 565\u001b[0m     X \u001b[38;5;241m=\u001b[39m check_array(X, input_name\u001b[38;5;241m=\u001b[39m\u001b[38;5;124m\"\u001b[39m\u001b[38;5;124mX\u001b[39m\u001b[38;5;124m\"\u001b[39m, \u001b[38;5;241m*\u001b[39m\u001b[38;5;241m*\u001b[39mcheck_params)\n\u001b[0;32m    566\u001b[0m     out \u001b[38;5;241m=\u001b[39m X\n\u001b[0;32m    567\u001b[0m \u001b[38;5;28;01melif\u001b[39;00m no_val_X \u001b[38;5;129;01mand\u001b[39;00m \u001b[38;5;129;01mnot\u001b[39;00m no_val_y:\n",
      "File \u001b[1;32m~\\Desktop\\ap1\\stock-price-prediction\\env\\Lib\\site-packages\\sklearn\\utils\\validation.py:902\u001b[0m, in \u001b[0;36mcheck_array\u001b[1;34m(array, accept_sparse, accept_large_sparse, dtype, order, copy, force_all_finite, ensure_2d, allow_nd, ensure_min_samples, ensure_min_features, estimator, input_name)\u001b[0m\n\u001b[0;32m    900\u001b[0m     \u001b[38;5;66;03m# If input is 1D raise error\u001b[39;00m\n\u001b[0;32m    901\u001b[0m     \u001b[38;5;28;01mif\u001b[39;00m array\u001b[38;5;241m.\u001b[39mndim \u001b[38;5;241m==\u001b[39m \u001b[38;5;241m1\u001b[39m:\n\u001b[1;32m--> 902\u001b[0m         \u001b[38;5;28;01mraise\u001b[39;00m \u001b[38;5;167;01mValueError\u001b[39;00m(\n\u001b[0;32m    903\u001b[0m             \u001b[38;5;124m\"\u001b[39m\u001b[38;5;124mExpected 2D array, got 1D array instead:\u001b[39m\u001b[38;5;130;01m\\n\u001b[39;00m\u001b[38;5;124marray=\u001b[39m\u001b[38;5;132;01m{}\u001b[39;00m\u001b[38;5;124m.\u001b[39m\u001b[38;5;130;01m\\n\u001b[39;00m\u001b[38;5;124m\"\u001b[39m\n\u001b[0;32m    904\u001b[0m             \u001b[38;5;124m\"\u001b[39m\u001b[38;5;124mReshape your data either using array.reshape(-1, 1) if \u001b[39m\u001b[38;5;124m\"\u001b[39m\n\u001b[0;32m    905\u001b[0m             \u001b[38;5;124m\"\u001b[39m\u001b[38;5;124myour data has a single feature or array.reshape(1, -1) \u001b[39m\u001b[38;5;124m\"\u001b[39m\n\u001b[0;32m    906\u001b[0m             \u001b[38;5;124m\"\u001b[39m\u001b[38;5;124mif it contains a single sample.\u001b[39m\u001b[38;5;124m\"\u001b[39m\u001b[38;5;241m.\u001b[39mformat(array)\n\u001b[0;32m    907\u001b[0m         )\n\u001b[0;32m    909\u001b[0m \u001b[38;5;28;01mif\u001b[39;00m dtype_numeric \u001b[38;5;129;01mand\u001b[39;00m array\u001b[38;5;241m.\u001b[39mdtype\u001b[38;5;241m.\u001b[39mkind \u001b[38;5;129;01min\u001b[39;00m \u001b[38;5;124m\"\u001b[39m\u001b[38;5;124mUSV\u001b[39m\u001b[38;5;124m\"\u001b[39m:\n\u001b[0;32m    910\u001b[0m     \u001b[38;5;28;01mraise\u001b[39;00m \u001b[38;5;167;01mValueError\u001b[39;00m(\n\u001b[0;32m    911\u001b[0m         \u001b[38;5;124m\"\u001b[39m\u001b[38;5;124mdtype=\u001b[39m\u001b[38;5;124m'\u001b[39m\u001b[38;5;124mnumeric\u001b[39m\u001b[38;5;124m'\u001b[39m\u001b[38;5;124m is not compatible with arrays of bytes/strings.\u001b[39m\u001b[38;5;124m\"\u001b[39m\n\u001b[0;32m    912\u001b[0m         \u001b[38;5;124m\"\u001b[39m\u001b[38;5;124mConvert your data to numeric values explicitly instead.\u001b[39m\u001b[38;5;124m\"\u001b[39m\n\u001b[0;32m    913\u001b[0m     )\n",
      "\u001b[1;31mValueError\u001b[0m: Expected 2D array, got 1D array instead:\narray=[].\nReshape your data either using array.reshape(-1, 1) if your data has a single feature or array.reshape(1, -1) if it contains a single sample."
     ]
    }
   ],
   "source": [
    "reg.predict(numpy_df_test)"
   ]
  },
  {
   "cell_type": "markdown",
   "id": "4d6301ac",
   "metadata": {},
   "source": [
    "### NOTE: Since our dataset is very small and as you can see that fetching 600 tweets could only make data for just 10 days.Also the prediction is not very great in such small dataset. So we found this new dataset on internet which has the Text as \"Tweets\" and respective \"close price\" and \"Adjusted close price\".\n",
    "\n",
    "\n",
    "### Adjusted Close Price: An adjusted closing price is a stock's closing price on any given day of trading that has been amended to include any distributions and corporate actions that occurred at any time before the next day's open."
   ]
  },
  {
   "cell_type": "code",
   "execution_count": 95,
   "id": "fd54e228",
   "metadata": {},
   "outputs": [],
   "source": [
    "stocks_dataf = pd.read_pickle('data/Twitter_Dataset.pkl')\n",
    "stocks_dataf.columns=['closing_price','adj_close_price','Tweets']"
   ]
  },
  {
   "cell_type": "code",
   "execution_count": 96,
   "id": "d6732553",
   "metadata": {},
   "outputs": [
    {
     "data": {
      "text/html": [
       "<div>\n",
       "<style scoped>\n",
       "    .dataframe tbody tr th:only-of-type {\n",
       "        vertical-align: middle;\n",
       "    }\n",
       "\n",
       "    .dataframe tbody tr th {\n",
       "        vertical-align: top;\n",
       "    }\n",
       "\n",
       "    .dataframe thead th {\n",
       "        text-align: right;\n",
       "    }\n",
       "</style>\n",
       "<table border=\"1\" class=\"dataframe\">\n",
       "  <thead>\n",
       "    <tr style=\"text-align: right;\">\n",
       "      <th></th>\n",
       "      <th>closing_price</th>\n",
       "      <th>adj_close_price</th>\n",
       "      <th>Tweets</th>\n",
       "    </tr>\n",
       "  </thead>\n",
       "  <tbody>\n",
       "    <tr>\n",
       "      <th>2007-01-01</th>\n",
       "      <td>12469.971875</td>\n",
       "      <td>12469.971875</td>\n",
       "      <td>. What Sticks from '06. Somalia Orders Islamis...</td>\n",
       "    </tr>\n",
       "    <tr>\n",
       "      <th>2007-01-02</th>\n",
       "      <td>12472.245703</td>\n",
       "      <td>12472.245703</td>\n",
       "      <td>. Heart Health: Vitamin Does Not Prevent Death...</td>\n",
       "    </tr>\n",
       "    <tr>\n",
       "      <th>2007-01-03</th>\n",
       "      <td>12474.519531</td>\n",
       "      <td>12474.519531</td>\n",
       "      <td>. Google Answer to Filling Jobs Is an Algorith...</td>\n",
       "    </tr>\n",
       "    <tr>\n",
       "      <th>2007-01-04</th>\n",
       "      <td>12480.690430</td>\n",
       "      <td>12480.690430</td>\n",
       "      <td>. Helping Make the Shift From Combat to Commer...</td>\n",
       "    </tr>\n",
       "    <tr>\n",
       "      <th>2007-01-05</th>\n",
       "      <td>12398.009766</td>\n",
       "      <td>12398.009766</td>\n",
       "      <td>. Rise in Ethanol Raises Concerns About Corn a...</td>\n",
       "    </tr>\n",
       "    <tr>\n",
       "      <th>...</th>\n",
       "      <td>...</td>\n",
       "      <td>...</td>\n",
       "      <td>...</td>\n",
       "    </tr>\n",
       "    <tr>\n",
       "      <th>2016-12-27</th>\n",
       "      <td>19945.039062</td>\n",
       "      <td>19945.039062</td>\n",
       "      <td>. Should the U.S. Embassy Be Moved From Tel Av...</td>\n",
       "    </tr>\n",
       "    <tr>\n",
       "      <th>2016-12-28</th>\n",
       "      <td>19833.679688</td>\n",
       "      <td>19833.679688</td>\n",
       "      <td>. When Finding the Right Lawyer Seems Daunting...</td>\n",
       "    </tr>\n",
       "    <tr>\n",
       "      <th>2016-12-29</th>\n",
       "      <td>19819.779297</td>\n",
       "      <td>19819.779297</td>\n",
       "      <td>. Does Empathy Guide or Hinder Moral Action?. ...</td>\n",
       "    </tr>\n",
       "    <tr>\n",
       "      <th>2016-12-30</th>\n",
       "      <td>19762.599609</td>\n",
       "      <td>19762.599609</td>\n",
       "      <td>. Shielding Seized Assets From Corruption’s Cl...</td>\n",
       "    </tr>\n",
       "    <tr>\n",
       "      <th>2016-12-31</th>\n",
       "      <td>19762.599609</td>\n",
       "      <td>19762.599609</td>\n",
       "      <td>Terrorist Attack at Nightclub in Istanbul Kill...</td>\n",
       "    </tr>\n",
       "  </tbody>\n",
       "</table>\n",
       "<p>3653 rows × 3 columns</p>\n",
       "</div>"
      ],
      "text/plain": [
       "            closing_price  adj_close_price  \\\n",
       "2007-01-01   12469.971875     12469.971875   \n",
       "2007-01-02   12472.245703     12472.245703   \n",
       "2007-01-03   12474.519531     12474.519531   \n",
       "2007-01-04   12480.690430     12480.690430   \n",
       "2007-01-05   12398.009766     12398.009766   \n",
       "...                   ...              ...   \n",
       "2016-12-27   19945.039062     19945.039062   \n",
       "2016-12-28   19833.679688     19833.679688   \n",
       "2016-12-29   19819.779297     19819.779297   \n",
       "2016-12-30   19762.599609     19762.599609   \n",
       "2016-12-31   19762.599609     19762.599609   \n",
       "\n",
       "                                                       Tweets  \n",
       "2007-01-01  . What Sticks from '06. Somalia Orders Islamis...  \n",
       "2007-01-02  . Heart Health: Vitamin Does Not Prevent Death...  \n",
       "2007-01-03  . Google Answer to Filling Jobs Is an Algorith...  \n",
       "2007-01-04  . Helping Make the Shift From Combat to Commer...  \n",
       "2007-01-05  . Rise in Ethanol Raises Concerns About Corn a...  \n",
       "...                                                       ...  \n",
       "2016-12-27  . Should the U.S. Embassy Be Moved From Tel Av...  \n",
       "2016-12-28  . When Finding the Right Lawyer Seems Daunting...  \n",
       "2016-12-29  . Does Empathy Guide or Hinder Moral Action?. ...  \n",
       "2016-12-30  . Shielding Seized Assets From Corruption’s Cl...  \n",
       "2016-12-31  Terrorist Attack at Nightclub in Istanbul Kill...  \n",
       "\n",
       "[3653 rows x 3 columns]"
      ]
     },
     "execution_count": 96,
     "metadata": {},
     "output_type": "execute_result"
    }
   ],
   "source": [
    "stocks_dataf"
   ]
  },
  {
   "cell_type": "code",
   "execution_count": 97,
   "id": "13921ccf",
   "metadata": {},
   "outputs": [],
   "source": [
    "stocks_dataf = stocks_dataf.reset_index().rename(columns = {'index':'Date'})"
   ]
  },
  {
   "cell_type": "markdown",
   "id": "24443798",
   "metadata": {},
   "source": [
    "#### Removing dot (.) and space from the Tweets\n",
    "\n",
    "---\n",
    "\n"
   ]
  },
  {
   "cell_type": "code",
   "execution_count": 99,
   "id": "ea549c0a",
   "metadata": {},
   "outputs": [
    {
     "data": {
      "text/html": [
       "<div>\n",
       "<style scoped>\n",
       "    .dataframe tbody tr th:only-of-type {\n",
       "        vertical-align: middle;\n",
       "    }\n",
       "\n",
       "    .dataframe tbody tr th {\n",
       "        vertical-align: top;\n",
       "    }\n",
       "\n",
       "    .dataframe thead th {\n",
       "        text-align: right;\n",
       "    }\n",
       "</style>\n",
       "<table border=\"1\" class=\"dataframe\">\n",
       "  <thead>\n",
       "    <tr style=\"text-align: right;\">\n",
       "      <th></th>\n",
       "      <th>Date</th>\n",
       "      <th>adj_close_price</th>\n",
       "      <th>Tweets</th>\n",
       "    </tr>\n",
       "  </thead>\n",
       "  <tbody>\n",
       "    <tr>\n",
       "      <th>0</th>\n",
       "      <td>2007-01-01</td>\n",
       "      <td>12469</td>\n",
       "      <td>What Sticks from '06. Somalia Orders Islamist...</td>\n",
       "    </tr>\n",
       "    <tr>\n",
       "      <th>1</th>\n",
       "      <td>2007-01-02</td>\n",
       "      <td>12472</td>\n",
       "      <td>Heart Health: Vitamin Does Not Prevent Death ...</td>\n",
       "    </tr>\n",
       "    <tr>\n",
       "      <th>2</th>\n",
       "      <td>2007-01-03</td>\n",
       "      <td>12474</td>\n",
       "      <td>Google Answer to Filling Jobs Is an Algorithm...</td>\n",
       "    </tr>\n",
       "    <tr>\n",
       "      <th>3</th>\n",
       "      <td>2007-01-04</td>\n",
       "      <td>12480</td>\n",
       "      <td>Helping Make the Shift From Combat to Commerc...</td>\n",
       "    </tr>\n",
       "    <tr>\n",
       "      <th>4</th>\n",
       "      <td>2007-01-05</td>\n",
       "      <td>12398</td>\n",
       "      <td>Rise in Ethanol Raises Concerns About Corn as...</td>\n",
       "    </tr>\n",
       "    <tr>\n",
       "      <th>...</th>\n",
       "      <td>...</td>\n",
       "      <td>...</td>\n",
       "      <td>...</td>\n",
       "    </tr>\n",
       "    <tr>\n",
       "      <th>3648</th>\n",
       "      <td>2016-12-27</td>\n",
       "      <td>19945</td>\n",
       "      <td>Should the U.S. Embassy Be Moved From Tel Avi...</td>\n",
       "    </tr>\n",
       "    <tr>\n",
       "      <th>3649</th>\n",
       "      <td>2016-12-28</td>\n",
       "      <td>19833</td>\n",
       "      <td>When Finding the Right Lawyer Seems Daunting,...</td>\n",
       "    </tr>\n",
       "    <tr>\n",
       "      <th>3650</th>\n",
       "      <td>2016-12-29</td>\n",
       "      <td>19819</td>\n",
       "      <td>Does Empathy Guide or Hinder Moral Action?. C...</td>\n",
       "    </tr>\n",
       "    <tr>\n",
       "      <th>3651</th>\n",
       "      <td>2016-12-30</td>\n",
       "      <td>19762</td>\n",
       "      <td>Shielding Seized Assets From Corruption’s Clu...</td>\n",
       "    </tr>\n",
       "    <tr>\n",
       "      <th>3652</th>\n",
       "      <td>2016-12-31</td>\n",
       "      <td>19762</td>\n",
       "      <td>Terrorist Attack at Nightclub in Istanbul Kill...</td>\n",
       "    </tr>\n",
       "  </tbody>\n",
       "</table>\n",
       "<p>3653 rows × 3 columns</p>\n",
       "</div>"
      ],
      "text/plain": [
       "           Date  adj_close_price  \\\n",
       "0    2007-01-01            12469   \n",
       "1    2007-01-02            12472   \n",
       "2    2007-01-03            12474   \n",
       "3    2007-01-04            12480   \n",
       "4    2007-01-05            12398   \n",
       "...         ...              ...   \n",
       "3648 2016-12-27            19945   \n",
       "3649 2016-12-28            19833   \n",
       "3650 2016-12-29            19819   \n",
       "3651 2016-12-30            19762   \n",
       "3652 2016-12-31            19762   \n",
       "\n",
       "                                                 Tweets  \n",
       "0      What Sticks from '06. Somalia Orders Islamist...  \n",
       "1      Heart Health: Vitamin Does Not Prevent Death ...  \n",
       "2      Google Answer to Filling Jobs Is an Algorithm...  \n",
       "3      Helping Make the Shift From Combat to Commerc...  \n",
       "4      Rise in Ethanol Raises Concerns About Corn as...  \n",
       "...                                                 ...  \n",
       "3648   Should the U.S. Embassy Be Moved From Tel Avi...  \n",
       "3649   When Finding the Right Lawyer Seems Daunting,...  \n",
       "3650   Does Empathy Guide or Hinder Moral Action?. C...  \n",
       "3651   Shielding Seized Assets From Corruption’s Clu...  \n",
       "3652  Terrorist Attack at Nightclub in Istanbul Kill...  \n",
       "\n",
       "[3653 rows x 3 columns]"
      ]
     },
     "execution_count": 99,
     "metadata": {},
     "output_type": "execute_result"
    }
   ],
   "source": [
    "stocks_dataf['adj_close_price'] = stocks_dataf['adj_close_price'].apply(np.int64)\n",
    "stocks_dataf = stocks_dataf[['Date','adj_close_price', 'Tweets']]\n",
    "stocks_dataf['Tweets'] = stocks_dataf['Tweets'].map(lambda x: x.lstrip('.-'))\n",
    "stocks_dataf"
   ]
  },
  {
   "cell_type": "code",
   "execution_count": 100,
   "id": "e4f2ed81",
   "metadata": {},
   "outputs": [],
   "source": [
    "dataframe = stocks_dataf[['adj_close_price']].copy()"
   ]
  },
  {
   "cell_type": "markdown",
   "id": "c8c7fb9f",
   "metadata": {},
   "source": [
    "# dataframe = dataframe.reset_index().rename(columns = {'index':'Date'})"
   ]
  },
  {
   "cell_type": "code",
   "execution_count": 101,
   "id": "cada8da6",
   "metadata": {},
   "outputs": [],
   "source": [
    "dataframe[\"Comp\"] = ''\n",
    "dataframe[\"Negative\"] = ''\n",
    "dataframe[\"Neutral\"] = ''\n",
    "dataframe[\"Positive\"] = ''"
   ]
  },
  {
   "cell_type": "code",
   "execution_count": 102,
   "id": "103d5812",
   "metadata": {},
   "outputs": [
    {
     "data": {
      "text/html": [
       "<div>\n",
       "<style scoped>\n",
       "    .dataframe tbody tr th:only-of-type {\n",
       "        vertical-align: middle;\n",
       "    }\n",
       "\n",
       "    .dataframe tbody tr th {\n",
       "        vertical-align: top;\n",
       "    }\n",
       "\n",
       "    .dataframe thead th {\n",
       "        text-align: right;\n",
       "    }\n",
       "</style>\n",
       "<table border=\"1\" class=\"dataframe\">\n",
       "  <thead>\n",
       "    <tr style=\"text-align: right;\">\n",
       "      <th></th>\n",
       "      <th>adj_close_price</th>\n",
       "      <th>Comp</th>\n",
       "      <th>Negative</th>\n",
       "      <th>Neutral</th>\n",
       "      <th>Positive</th>\n",
       "    </tr>\n",
       "  </thead>\n",
       "  <tbody>\n",
       "    <tr>\n",
       "      <th>0</th>\n",
       "      <td>12469</td>\n",
       "      <td></td>\n",
       "      <td></td>\n",
       "      <td></td>\n",
       "      <td></td>\n",
       "    </tr>\n",
       "    <tr>\n",
       "      <th>1</th>\n",
       "      <td>12472</td>\n",
       "      <td></td>\n",
       "      <td></td>\n",
       "      <td></td>\n",
       "      <td></td>\n",
       "    </tr>\n",
       "    <tr>\n",
       "      <th>2</th>\n",
       "      <td>12474</td>\n",
       "      <td></td>\n",
       "      <td></td>\n",
       "      <td></td>\n",
       "      <td></td>\n",
       "    </tr>\n",
       "    <tr>\n",
       "      <th>3</th>\n",
       "      <td>12480</td>\n",
       "      <td></td>\n",
       "      <td></td>\n",
       "      <td></td>\n",
       "      <td></td>\n",
       "    </tr>\n",
       "    <tr>\n",
       "      <th>4</th>\n",
       "      <td>12398</td>\n",
       "      <td></td>\n",
       "      <td></td>\n",
       "      <td></td>\n",
       "      <td></td>\n",
       "    </tr>\n",
       "    <tr>\n",
       "      <th>...</th>\n",
       "      <td>...</td>\n",
       "      <td>...</td>\n",
       "      <td>...</td>\n",
       "      <td>...</td>\n",
       "      <td>...</td>\n",
       "    </tr>\n",
       "    <tr>\n",
       "      <th>3648</th>\n",
       "      <td>19945</td>\n",
       "      <td></td>\n",
       "      <td></td>\n",
       "      <td></td>\n",
       "      <td></td>\n",
       "    </tr>\n",
       "    <tr>\n",
       "      <th>3649</th>\n",
       "      <td>19833</td>\n",
       "      <td></td>\n",
       "      <td></td>\n",
       "      <td></td>\n",
       "      <td></td>\n",
       "    </tr>\n",
       "    <tr>\n",
       "      <th>3650</th>\n",
       "      <td>19819</td>\n",
       "      <td></td>\n",
       "      <td></td>\n",
       "      <td></td>\n",
       "      <td></td>\n",
       "    </tr>\n",
       "    <tr>\n",
       "      <th>3651</th>\n",
       "      <td>19762</td>\n",
       "      <td></td>\n",
       "      <td></td>\n",
       "      <td></td>\n",
       "      <td></td>\n",
       "    </tr>\n",
       "    <tr>\n",
       "      <th>3652</th>\n",
       "      <td>19762</td>\n",
       "      <td></td>\n",
       "      <td></td>\n",
       "      <td></td>\n",
       "      <td></td>\n",
       "    </tr>\n",
       "  </tbody>\n",
       "</table>\n",
       "<p>3653 rows × 5 columns</p>\n",
       "</div>"
      ],
      "text/plain": [
       "      adj_close_price Comp Negative Neutral Positive\n",
       "0               12469                               \n",
       "1               12472                               \n",
       "2               12474                               \n",
       "3               12480                               \n",
       "4               12398                               \n",
       "...               ...  ...      ...     ...      ...\n",
       "3648            19945                               \n",
       "3649            19833                               \n",
       "3650            19819                               \n",
       "3651            19762                               \n",
       "3652            19762                               \n",
       "\n",
       "[3653 rows x 5 columns]"
      ]
     },
     "execution_count": 102,
     "metadata": {},
     "output_type": "execute_result"
    }
   ],
   "source": [
    "dataframe"
   ]
  },
  {
   "cell_type": "code",
   "execution_count": 103,
   "id": "6f517a7e",
   "metadata": {},
   "outputs": [
    {
     "name": "stderr",
     "output_type": "stream",
     "text": [
      "[nltk_data] Downloading package vader_lexicon to\n",
      "[nltk_data]     C:\\Users\\Hassan\\AppData\\Roaming\\nltk_data...\n",
      "[nltk_data]   Package vader_lexicon is already up-to-date!\n"
     ]
    },
    {
     "data": {
      "text/plain": [
       "True"
      ]
     },
     "execution_count": 103,
     "metadata": {},
     "output_type": "execute_result"
    }
   ],
   "source": [
    "import nltk\n",
    "nltk.download('vader_lexicon')"
   ]
  },
  {
   "cell_type": "code",
   "execution_count": 104,
   "id": "8a037057",
   "metadata": {},
   "outputs": [
    {
     "name": "stderr",
     "output_type": "stream",
     "text": [
      "C:\\Users\\Hassan\\AppData\\Local\\Temp\\ipykernel_22240\\1310500495.py:5: FutureWarning: iteritems is deprecated and will be removed in a future version. Use .items instead.\n",
      "  for indexx, row in dataframe.T.iteritems():\n",
      "C:\\Users\\Hassan\\AppData\\Local\\Temp\\ipykernel_22240\\1310500495.py:9: SettingWithCopyWarning: \n",
      "A value is trying to be set on a copy of a slice from a DataFrame\n",
      "\n",
      "See the caveats in the documentation: https://pandas.pydata.org/pandas-docs/stable/user_guide/indexing.html#returning-a-view-versus-a-copy\n",
      "  dataframe['Comp'].iloc[indexx] = sentence_sentiment['compound']\n",
      "C:\\Users\\Hassan\\AppData\\Local\\Temp\\ipykernel_22240\\1310500495.py:10: SettingWithCopyWarning: \n",
      "A value is trying to be set on a copy of a slice from a DataFrame\n",
      "\n",
      "See the caveats in the documentation: https://pandas.pydata.org/pandas-docs/stable/user_guide/indexing.html#returning-a-view-versus-a-copy\n",
      "  dataframe['Negative'].iloc[indexx] = sentence_sentiment['neg']\n",
      "C:\\Users\\Hassan\\AppData\\Local\\Temp\\ipykernel_22240\\1310500495.py:11: SettingWithCopyWarning: \n",
      "A value is trying to be set on a copy of a slice from a DataFrame\n",
      "\n",
      "See the caveats in the documentation: https://pandas.pydata.org/pandas-docs/stable/user_guide/indexing.html#returning-a-view-versus-a-copy\n",
      "  dataframe['Neutral'].iloc[indexx] = sentence_sentiment['neu']\n",
      "C:\\Users\\Hassan\\AppData\\Local\\Temp\\ipykernel_22240\\1310500495.py:12: SettingWithCopyWarning: \n",
      "A value is trying to be set on a copy of a slice from a DataFrame\n",
      "\n",
      "See the caveats in the documentation: https://pandas.pydata.org/pandas-docs/stable/user_guide/indexing.html#returning-a-view-versus-a-copy\n",
      "  dataframe['Positive'].iloc[indexx] = sentence_sentiment['compound']\n"
     ]
    }
   ],
   "source": [
    "from nltk.sentiment.vader import SentimentIntensityAnalyzer\n",
    "from nltk.sentiment.vader import SentimentIntensityAnalyzer\n",
    "import unicodedata\n",
    "sentiment_i_a = SentimentIntensityAnalyzer()\n",
    "for indexx, row in dataframe.T.iteritems():\n",
    "    try:\n",
    "        sentence_i = unicodedata.normalize('NFKD', stocks_dataf.loc[indexx, 'Tweets'])\n",
    "        sentence_sentiment = sentiment_i_a.polarity_scores(sentence_i)\n",
    "        dataframe['Comp'].iloc[indexx] = sentence_sentiment['compound']\n",
    "        dataframe['Negative'].iloc[indexx] = sentence_sentiment['neg']\n",
    "        dataframe['Neutral'].iloc[indexx] = sentence_sentiment['neu']\n",
    "        dataframe['Positive'].iloc[indexx] = sentence_sentiment['compound']\n",
    "        # dataframe.set_value(indexx, 'Comp', sentence_sentiment['compound'])\n",
    "        # dataframe.set_value(indexx, 'Negative', sentence_sentiment['neg'])\n",
    "        # dataframe.set_value(indexx, 'Neutral', sentence_sentiment['neu'])\n",
    "        # dataframe.set_value(indexx, 'Positive', sentence_sentiment['pos'])\n",
    "    except TypeError:\n",
    "        print (stocks_dataf.loc[indexx, 'Tweets'])\n",
    "        print (indexx)"
   ]
  },
  {
   "cell_type": "code",
   "execution_count": 105,
   "id": "6d604977",
   "metadata": {},
   "outputs": [
    {
     "data": {
      "text/html": [
       "<div>\n",
       "<style scoped>\n",
       "    .dataframe tbody tr th:only-of-type {\n",
       "        vertical-align: middle;\n",
       "    }\n",
       "\n",
       "    .dataframe tbody tr th {\n",
       "        vertical-align: top;\n",
       "    }\n",
       "\n",
       "    .dataframe thead th {\n",
       "        text-align: right;\n",
       "    }\n",
       "</style>\n",
       "<table border=\"1\" class=\"dataframe\">\n",
       "  <thead>\n",
       "    <tr style=\"text-align: right;\">\n",
       "      <th></th>\n",
       "      <th>adj_close_price</th>\n",
       "      <th>Comp</th>\n",
       "      <th>Negative</th>\n",
       "      <th>Neutral</th>\n",
       "      <th>Positive</th>\n",
       "    </tr>\n",
       "  </thead>\n",
       "  <tbody>\n",
       "    <tr>\n",
       "      <th>0</th>\n",
       "      <td>12469</td>\n",
       "      <td>-0.9814</td>\n",
       "      <td>0.159</td>\n",
       "      <td>0.749</td>\n",
       "      <td>-0.9814</td>\n",
       "    </tr>\n",
       "    <tr>\n",
       "      <th>1</th>\n",
       "      <td>12472</td>\n",
       "      <td>-0.8521</td>\n",
       "      <td>0.116</td>\n",
       "      <td>0.785</td>\n",
       "      <td>-0.8521</td>\n",
       "    </tr>\n",
       "    <tr>\n",
       "      <th>2</th>\n",
       "      <td>12474</td>\n",
       "      <td>-0.9993</td>\n",
       "      <td>0.198</td>\n",
       "      <td>0.737</td>\n",
       "      <td>-0.9993</td>\n",
       "    </tr>\n",
       "    <tr>\n",
       "      <th>3</th>\n",
       "      <td>12480</td>\n",
       "      <td>-0.9982</td>\n",
       "      <td>0.131</td>\n",
       "      <td>0.806</td>\n",
       "      <td>-0.9982</td>\n",
       "    </tr>\n",
       "    <tr>\n",
       "      <th>4</th>\n",
       "      <td>12398</td>\n",
       "      <td>-0.9901</td>\n",
       "      <td>0.124</td>\n",
       "      <td>0.794</td>\n",
       "      <td>-0.9901</td>\n",
       "    </tr>\n",
       "    <tr>\n",
       "      <th>...</th>\n",
       "      <td>...</td>\n",
       "      <td>...</td>\n",
       "      <td>...</td>\n",
       "      <td>...</td>\n",
       "      <td>...</td>\n",
       "    </tr>\n",
       "    <tr>\n",
       "      <th>3648</th>\n",
       "      <td>19945</td>\n",
       "      <td>-0.9898</td>\n",
       "      <td>0.178</td>\n",
       "      <td>0.719</td>\n",
       "      <td>-0.9898</td>\n",
       "    </tr>\n",
       "    <tr>\n",
       "      <th>3649</th>\n",
       "      <td>19833</td>\n",
       "      <td>-0.9844</td>\n",
       "      <td>0.177</td>\n",
       "      <td>0.704</td>\n",
       "      <td>-0.9844</td>\n",
       "    </tr>\n",
       "    <tr>\n",
       "      <th>3650</th>\n",
       "      <td>19819</td>\n",
       "      <td>-0.9782</td>\n",
       "      <td>0.14</td>\n",
       "      <td>0.761</td>\n",
       "      <td>-0.9782</td>\n",
       "    </tr>\n",
       "    <tr>\n",
       "      <th>3651</th>\n",
       "      <td>19762</td>\n",
       "      <td>-0.995</td>\n",
       "      <td>0.168</td>\n",
       "      <td>0.734</td>\n",
       "      <td>-0.995</td>\n",
       "    </tr>\n",
       "    <tr>\n",
       "      <th>3652</th>\n",
       "      <td>19762</td>\n",
       "      <td>-0.2869</td>\n",
       "      <td>0.173</td>\n",
       "      <td>0.665</td>\n",
       "      <td>-0.2869</td>\n",
       "    </tr>\n",
       "  </tbody>\n",
       "</table>\n",
       "<p>3653 rows × 5 columns</p>\n",
       "</div>"
      ],
      "text/plain": [
       "      adj_close_price    Comp Negative Neutral Positive\n",
       "0               12469 -0.9814    0.159   0.749  -0.9814\n",
       "1               12472 -0.8521    0.116   0.785  -0.8521\n",
       "2               12474 -0.9993    0.198   0.737  -0.9993\n",
       "3               12480 -0.9982    0.131   0.806  -0.9982\n",
       "4               12398 -0.9901    0.124   0.794  -0.9901\n",
       "...               ...     ...      ...     ...      ...\n",
       "3648            19945 -0.9898    0.178   0.719  -0.9898\n",
       "3649            19833 -0.9844    0.177   0.704  -0.9844\n",
       "3650            19819 -0.9782     0.14   0.761  -0.9782\n",
       "3651            19762  -0.995    0.168   0.734   -0.995\n",
       "3652            19762 -0.2869    0.173   0.665  -0.2869\n",
       "\n",
       "[3653 rows x 5 columns]"
      ]
     },
     "execution_count": 105,
     "metadata": {},
     "output_type": "execute_result"
    }
   ],
   "source": [
    "dataframe"
   ]
  },
  {
   "cell_type": "code",
   "execution_count": 107,
   "id": "6a152be1",
   "metadata": {},
   "outputs": [
    {
     "name": "stdout",
     "output_type": "stream",
     "text": [
      "% of positive tweets=  44.34711196277033\n",
      "% of negative tweets=  55.43388995346291\n"
     ]
    },
    {
     "data": {
      "text/plain": [
       "[]"
      ]
     },
     "execution_count": 107,
     "metadata": {},
     "output_type": "execute_result"
    },
    {
     "data": {
      "image/png": "[encoded data removed]",
      "text/plain": [
       "<Figure size 640x480 with 1 Axes>"
      ]
     },
     "metadata": {},
     "output_type": "display_data"
    }
   ],
   "source": [
    "posi=0\n",
    "nega=0\n",
    "for i in range (0,len(dataframe)):\n",
    "    get_val=dataframe.Comp[i]\n",
    "    if(float(get_val)<(-0.99)):\n",
    "        nega=nega+1\n",
    "    if(float(get_val>(-0.99))):\n",
    "        posi=posi+1\n",
    "posper=(posi/(len(dataframe)))*100\n",
    "negper=(nega/(len(dataframe)))*100\n",
    "print(\"% of positive tweets= \",posper)\n",
    "print(\"% of negative tweets= \",negper)\n",
    "arr=np.asarray([posper,negper], dtype=int)\n",
    "mlpt.pie(arr,labels=['positive','negative'])\n",
    "mlpt.plot()"
   ]
  },
  {
   "cell_type": "code",
   "execution_count": 110,
   "id": "10d42162",
   "metadata": {},
   "outputs": [
    {
     "name": "stdout",
     "output_type": "stream",
     "text": [
      "% of positive tweets: 44.34711196277033\n",
      "% of negative tweets: 55.43388995346291\n"
     ]
    },
    {
     "data": {
      "text/plain": [
       "[]"
      ]
     },
     "execution_count": 110,
     "metadata": {},
     "output_type": "execute_result"
    },
    {
     "data": {
      "image/png": "[encoded data removed]",
      "text/plain": [
       "<Figure size 640x480 with 1 Axes>"
      ]
     },
     "metadata": {},
     "output_type": "display_data"
    }
   ],
   "source": [
    "posi = 0\n",
    "nega = 0\n",
    "\n",
    "for index, row in dataframe.iterrows():\n",
    "    get_val = row['Comp']\n",
    "    if float(get_val) < -0.99:\n",
    "        nega += 1\n",
    "    if float(get_val) > -0.99:\n",
    "        posi += 1\n",
    "\n",
    "posper = (posi / len(dataframe)) * 100\n",
    "negper = (nega / len(dataframe)) * 100\n",
    "\n",
    "print(\"% of positive tweets:\", posper)\n",
    "print(\"% of negative tweets:\", negper)\n",
    "\n",
    "arr = np.asarray([posper, negper], dtype=int)\n",
    "mlpt.pie(arr, labels=['positive', 'negative'])\n",
    "mlpt.plot()\n"
   ]
  },
  {
   "cell_type": "code",
   "execution_count": 111,
   "id": "040b30e4",
   "metadata": {},
   "outputs": [
    {
     "ename": "KeyError",
     "evalue": "'Date'",
     "output_type": "error",
     "traceback": [
      "\u001b[1;31m---------------------------------------------------------------------------\u001b[0m",
      "\u001b[1;31mKeyError\u001b[0m                                  Traceback (most recent call last)",
      "File \u001b[1;32m~\\Desktop\\ap1\\stock-price-prediction\\env\\Lib\\site-packages\\pandas\\core\\indexes\\base.py:3802\u001b[0m, in \u001b[0;36mIndex.get_loc\u001b[1;34m(self, key, method, tolerance)\u001b[0m\n\u001b[0;32m   3801\u001b[0m \u001b[38;5;28;01mtry\u001b[39;00m:\n\u001b[1;32m-> 3802\u001b[0m     \u001b[38;5;28;01mreturn\u001b[39;00m \u001b[38;5;28mself\u001b[39m\u001b[38;5;241m.\u001b[39m_engine\u001b[38;5;241m.\u001b[39mget_loc(casted_key)\n\u001b[0;32m   3803\u001b[0m \u001b[38;5;28;01mexcept\u001b[39;00m \u001b[38;5;167;01mKeyError\u001b[39;00m \u001b[38;5;28;01mas\u001b[39;00m err:\n",
      "File \u001b[1;32m~\\Desktop\\ap1\\stock-price-prediction\\env\\Lib\\site-packages\\pandas\\_libs\\index.pyx:138\u001b[0m, in \u001b[0;36mpandas._libs.index.IndexEngine.get_loc\u001b[1;34m()\u001b[0m\n",
      "File \u001b[1;32m~\\Desktop\\ap1\\stock-price-prediction\\env\\Lib\\site-packages\\pandas\\_libs\\index.pyx:165\u001b[0m, in \u001b[0;36mpandas._libs.index.IndexEngine.get_loc\u001b[1;34m()\u001b[0m\n",
      "File \u001b[1;32mpandas\\_libs\\hashtable_class_helper.pxi:5745\u001b[0m, in \u001b[0;36mpandas._libs.hashtable.PyObjectHashTable.get_item\u001b[1;34m()\u001b[0m\n",
      "File \u001b[1;32mpandas\\_libs\\hashtable_class_helper.pxi:5753\u001b[0m, in \u001b[0;36mpandas._libs.hashtable.PyObjectHashTable.get_item\u001b[1;34m()\u001b[0m\n",
      "\u001b[1;31mKeyError\u001b[0m: 'Date'",
      "\nThe above exception was the direct cause of the following exception:\n",
      "\u001b[1;31mKeyError\u001b[0m                                  Traceback (most recent call last)",
      "Cell \u001b[1;32mIn[111], line 1\u001b[0m\n\u001b[1;32m----> 1\u001b[0m dataframe\u001b[38;5;241m.\u001b[39mindex \u001b[38;5;241m=\u001b[39m dataframe[\u001b[38;5;124m'\u001b[39m\u001b[38;5;124mDate\u001b[39m\u001b[38;5;124m'\u001b[39m]\n",
      "File \u001b[1;32m~\\Desktop\\ap1\\stock-price-prediction\\env\\Lib\\site-packages\\pandas\\core\\frame.py:3807\u001b[0m, in \u001b[0;36mDataFrame.__getitem__\u001b[1;34m(self, key)\u001b[0m\n\u001b[0;32m   3805\u001b[0m \u001b[38;5;28;01mif\u001b[39;00m \u001b[38;5;28mself\u001b[39m\u001b[38;5;241m.\u001b[39mcolumns\u001b[38;5;241m.\u001b[39mnlevels \u001b[38;5;241m>\u001b[39m \u001b[38;5;241m1\u001b[39m:\n\u001b[0;32m   3806\u001b[0m     \u001b[38;5;28;01mreturn\u001b[39;00m \u001b[38;5;28mself\u001b[39m\u001b[38;5;241m.\u001b[39m_getitem_multilevel(key)\n\u001b[1;32m-> 3807\u001b[0m indexer \u001b[38;5;241m=\u001b[39m \u001b[38;5;28mself\u001b[39m\u001b[38;5;241m.\u001b[39mcolumns\u001b[38;5;241m.\u001b[39mget_loc(key)\n\u001b[0;32m   3808\u001b[0m \u001b[38;5;28;01mif\u001b[39;00m is_integer(indexer):\n\u001b[0;32m   3809\u001b[0m     indexer \u001b[38;5;241m=\u001b[39m [indexer]\n",
      "File \u001b[1;32m~\\Desktop\\ap1\\stock-price-prediction\\env\\Lib\\site-packages\\pandas\\core\\indexes\\base.py:3804\u001b[0m, in \u001b[0;36mIndex.get_loc\u001b[1;34m(self, key, method, tolerance)\u001b[0m\n\u001b[0;32m   3802\u001b[0m     \u001b[38;5;28;01mreturn\u001b[39;00m \u001b[38;5;28mself\u001b[39m\u001b[38;5;241m.\u001b[39m_engine\u001b[38;5;241m.\u001b[39mget_loc(casted_key)\n\u001b[0;32m   3803\u001b[0m \u001b[38;5;28;01mexcept\u001b[39;00m \u001b[38;5;167;01mKeyError\u001b[39;00m \u001b[38;5;28;01mas\u001b[39;00m err:\n\u001b[1;32m-> 3804\u001b[0m     \u001b[38;5;28;01mraise\u001b[39;00m \u001b[38;5;167;01mKeyError\u001b[39;00m(key) \u001b[38;5;28;01mfrom\u001b[39;00m \u001b[38;5;21;01merr\u001b[39;00m\n\u001b[0;32m   3805\u001b[0m \u001b[38;5;28;01mexcept\u001b[39;00m \u001b[38;5;167;01mTypeError\u001b[39;00m:\n\u001b[0;32m   3806\u001b[0m     \u001b[38;5;66;03m# If we have a listlike key, _check_indexing_error will raise\u001b[39;00m\n\u001b[0;32m   3807\u001b[0m     \u001b[38;5;66;03m#  InvalidIndexError. Otherwise we fall through and re-raise\u001b[39;00m\n\u001b[0;32m   3808\u001b[0m     \u001b[38;5;66;03m#  the TypeError.\u001b[39;00m\n\u001b[0;32m   3809\u001b[0m     \u001b[38;5;28mself\u001b[39m\u001b[38;5;241m.\u001b[39m_check_indexing_error(key)\n",
      "\u001b[1;31mKeyError\u001b[0m: 'Date'"
     ]
    }
   ],
   "source": [
    "dataframe.index = dataframe['Date']"
   ]
  },
  {
   "cell_type": "code",
   "execution_count": 109,
   "id": "9472b8dc",
   "metadata": {},
   "outputs": [
    {
     "data": {
      "text/html": [
       "<div>\n",
       "<style scoped>\n",
       "    .dataframe tbody tr th:only-of-type {\n",
       "        vertical-align: middle;\n",
       "    }\n",
       "\n",
       "    .dataframe tbody tr th {\n",
       "        vertical-align: top;\n",
       "    }\n",
       "\n",
       "    .dataframe thead th {\n",
       "        text-align: right;\n",
       "    }\n",
       "</style>\n",
       "<table border=\"1\" class=\"dataframe\">\n",
       "  <thead>\n",
       "    <tr style=\"text-align: right;\">\n",
       "      <th></th>\n",
       "      <th>adj_close_price</th>\n",
       "      <th>Comp</th>\n",
       "      <th>Negative</th>\n",
       "      <th>Neutral</th>\n",
       "      <th>Positive</th>\n",
       "    </tr>\n",
       "  </thead>\n",
       "  <tbody>\n",
       "    <tr>\n",
       "      <th>0</th>\n",
       "      <td>12469</td>\n",
       "      <td>-0.9814</td>\n",
       "      <td>0.159</td>\n",
       "      <td>0.749</td>\n",
       "      <td>-0.9814</td>\n",
       "    </tr>\n",
       "    <tr>\n",
       "      <th>1</th>\n",
       "      <td>12472</td>\n",
       "      <td>-0.8521</td>\n",
       "      <td>0.116</td>\n",
       "      <td>0.785</td>\n",
       "      <td>-0.8521</td>\n",
       "    </tr>\n",
       "    <tr>\n",
       "      <th>2</th>\n",
       "      <td>12474</td>\n",
       "      <td>-0.9993</td>\n",
       "      <td>0.198</td>\n",
       "      <td>0.737</td>\n",
       "      <td>-0.9993</td>\n",
       "    </tr>\n",
       "    <tr>\n",
       "      <th>3</th>\n",
       "      <td>12480</td>\n",
       "      <td>-0.9982</td>\n",
       "      <td>0.131</td>\n",
       "      <td>0.806</td>\n",
       "      <td>-0.9982</td>\n",
       "    </tr>\n",
       "    <tr>\n",
       "      <th>4</th>\n",
       "      <td>12398</td>\n",
       "      <td>-0.9901</td>\n",
       "      <td>0.124</td>\n",
       "      <td>0.794</td>\n",
       "      <td>-0.9901</td>\n",
       "    </tr>\n",
       "    <tr>\n",
       "      <th>...</th>\n",
       "      <td>...</td>\n",
       "      <td>...</td>\n",
       "      <td>...</td>\n",
       "      <td>...</td>\n",
       "      <td>...</td>\n",
       "    </tr>\n",
       "    <tr>\n",
       "      <th>3648</th>\n",
       "      <td>19945</td>\n",
       "      <td>-0.9898</td>\n",
       "      <td>0.178</td>\n",
       "      <td>0.719</td>\n",
       "      <td>-0.9898</td>\n",
       "    </tr>\n",
       "    <tr>\n",
       "      <th>3649</th>\n",
       "      <td>19833</td>\n",
       "      <td>-0.9844</td>\n",
       "      <td>0.177</td>\n",
       "      <td>0.704</td>\n",
       "      <td>-0.9844</td>\n",
       "    </tr>\n",
       "    <tr>\n",
       "      <th>3650</th>\n",
       "      <td>19819</td>\n",
       "      <td>-0.9782</td>\n",
       "      <td>0.14</td>\n",
       "      <td>0.761</td>\n",
       "      <td>-0.9782</td>\n",
       "    </tr>\n",
       "    <tr>\n",
       "      <th>3651</th>\n",
       "      <td>19762</td>\n",
       "      <td>-0.995</td>\n",
       "      <td>0.168</td>\n",
       "      <td>0.734</td>\n",
       "      <td>-0.995</td>\n",
       "    </tr>\n",
       "    <tr>\n",
       "      <th>3652</th>\n",
       "      <td>19762</td>\n",
       "      <td>-0.2869</td>\n",
       "      <td>0.173</td>\n",
       "      <td>0.665</td>\n",
       "      <td>-0.2869</td>\n",
       "    </tr>\n",
       "  </tbody>\n",
       "</table>\n",
       "<p>3653 rows × 5 columns</p>\n",
       "</div>"
      ],
      "text/plain": [
       "      adj_close_price    Comp Negative Neutral Positive\n",
       "0               12469 -0.9814    0.159   0.749  -0.9814\n",
       "1               12472 -0.8521    0.116   0.785  -0.8521\n",
       "2               12474 -0.9993    0.198   0.737  -0.9993\n",
       "3               12480 -0.9982    0.131   0.806  -0.9982\n",
       "4               12398 -0.9901    0.124   0.794  -0.9901\n",
       "...               ...     ...      ...     ...      ...\n",
       "3648            19945 -0.9898    0.178   0.719  -0.9898\n",
       "3649            19833 -0.9844    0.177   0.704  -0.9844\n",
       "3650            19819 -0.9782     0.14   0.761  -0.9782\n",
       "3651            19762  -0.995    0.168   0.734   -0.995\n",
       "3652            19762 -0.2869    0.173   0.665  -0.2869\n",
       "\n",
       "[3653 rows x 5 columns]"
      ]
     },
     "execution_count": 109,
     "metadata": {},
     "output_type": "execute_result"
    }
   ],
   "source": [
    "dataframe"
   ]
  },
  {
   "cell_type": "code",
   "execution_count": 112,
   "id": "7b620f34",
   "metadata": {},
   "outputs": [],
   "source": [
    "train_data_start = '2007-01-01'\n",
    "train_data_end = '2014-12-31'\n",
    "test_data_start = '2015-01-01'\n",
    "test_data_end = '2016-12-31'\n",
    "train = dataframe.loc[train_data_start : train_data_end]\n",
    "test = dataframe.loc[test_data_start:test_data_end]"
   ]
  },
  {
   "cell_type": "code",
   "execution_count": 113,
   "id": "5d9da38a",
   "metadata": {},
   "outputs": [
    {
     "name": "stderr",
     "output_type": "stream",
     "text": [
      "C:\\Users\\Hassan\\AppData\\Local\\Temp\\ipykernel_22240\\374192171.py:2: FutureWarning: iteritems is deprecated and will be removed in a future version. Use .items instead.\n",
      "  for date, row in train.T.iteritems():\n"
     ]
    }
   ],
   "source": [
    "list_of_sentiments_score = []\n",
    "for date, row in train.T.iteritems():\n",
    "    sentiment_score = np.asarray([dataframe.loc[date, 'Comp']])\n",
    "    list_of_sentiments_score.append(sentiment_score)\n",
    "numpy_dataframe_train = np.asarray(list_of_sentiments_score)"
   ]
  },
  {
   "cell_type": "code",
   "execution_count": 114,
   "id": "b68085eb",
   "metadata": {},
   "outputs": [
    {
     "name": "stderr",
     "output_type": "stream",
     "text": [
      "C:\\Users\\Hassan\\AppData\\Local\\Temp\\ipykernel_22240\\374192171.py:2: FutureWarning: iteritems is deprecated and will be removed in a future version. Use .items instead.\n",
      "  for date, row in train.T.iteritems():\n"
     ]
    }
   ],
   "source": [
    "list_of_sentiments_score = []\n",
    "for date, row in train.T.iteritems():\n",
    "    sentiment_score = np.asarray([dataframe.loc[date, 'Comp']])\n",
    "    list_of_sentiments_score.append(sentiment_score)\n",
    "numpy_dataframe_train = np.asarray(list_of_sentiments_score)"
   ]
  },
  {
   "cell_type": "code",
   "execution_count": 117,
   "id": "e8183309",
   "metadata": {},
   "outputs": [
    {
     "data": {
      "text/html": [
       "<div>\n",
       "<style scoped>\n",
       "    .dataframe tbody tr th:only-of-type {\n",
       "        vertical-align: middle;\n",
       "    }\n",
       "\n",
       "    .dataframe tbody tr th {\n",
       "        vertical-align: top;\n",
       "    }\n",
       "\n",
       "    .dataframe thead th {\n",
       "        text-align: right;\n",
       "    }\n",
       "</style>\n",
       "<table border=\"1\" class=\"dataframe\">\n",
       "  <thead>\n",
       "    <tr style=\"text-align: right;\">\n",
       "      <th></th>\n",
       "      <th>Date</th>\n",
       "      <th>Tweets</th>\n",
       "      <th>Prices</th>\n",
       "      <th>Comp</th>\n",
       "      <th>Negative</th>\n",
       "      <th>Neutral</th>\n",
       "      <th>Positive</th>\n",
       "    </tr>\n",
       "  </thead>\n",
       "  <tbody>\n",
       "    <tr>\n",
       "      <th>0</th>\n",
       "      <td>2023-06-14</td>\n",
       "      <td>Take flight to your dream destinations  Enjoy...</td>\n",
       "      <td>0</td>\n",
       "      <td>-0.6379</td>\n",
       "      <td>0.143</td>\n",
       "      <td>0.725</td>\n",
       "      <td>-0.6379</td>\n",
       "    </tr>\n",
       "    <tr>\n",
       "      <th>1</th>\n",
       "      <td>2023-06-13</td>\n",
       "      <td>My day keeps getting better George Don amp Je...</td>\n",
       "      <td>0</td>\n",
       "      <td>0.9991</td>\n",
       "      <td>0.036</td>\n",
       "      <td>0.802</td>\n",
       "      <td>0.9991</td>\n",
       "    </tr>\n",
       "    <tr>\n",
       "      <th>2</th>\n",
       "      <td>2023-06-12</td>\n",
       "      <td>One thing I can guarantee is that united exec...</td>\n",
       "      <td>0</td>\n",
       "      <td>0.9982</td>\n",
       "      <td>0.061</td>\n",
       "      <td>0.783</td>\n",
       "      <td>0.9982</td>\n",
       "    </tr>\n",
       "    <tr>\n",
       "      <th>3</th>\n",
       "      <td>2023-06-11</td>\n",
       "      <td>Entitlement doesnt get ANY worse than this Un...</td>\n",
       "      <td>0</td>\n",
       "      <td>0.9815</td>\n",
       "      <td>0.029</td>\n",
       "      <td>0.834</td>\n",
       "      <td>0.9815</td>\n",
       "    </tr>\n",
       "    <tr>\n",
       "      <th>4</th>\n",
       "      <td>2023-06-10</td>\n",
       "      <td>UnitedAirlines Given the cost of my ticket am...</td>\n",
       "      <td>0</td>\n",
       "      <td>0.9454</td>\n",
       "      <td>0.078</td>\n",
       "      <td>0.81</td>\n",
       "      <td>0.9454</td>\n",
       "    </tr>\n",
       "    <tr>\n",
       "      <th>5</th>\n",
       "      <td>2023-06-09</td>\n",
       "      <td>Excited to be flying back home to Hawaii in f...</td>\n",
       "      <td>0</td>\n",
       "      <td>0.9994</td>\n",
       "      <td>0.06</td>\n",
       "      <td>0.75</td>\n",
       "      <td>0.9994</td>\n",
       "    </tr>\n",
       "    <tr>\n",
       "      <th>6</th>\n",
       "      <td>2023-06-08</td>\n",
       "      <td>ICAO A05A25Flt UAL549 UnitedAirlines BOSORDFi...</td>\n",
       "      <td>0</td>\n",
       "      <td>0.9998</td>\n",
       "      <td>0.04</td>\n",
       "      <td>0.751</td>\n",
       "      <td>0.9998</td>\n",
       "    </tr>\n",
       "    <tr>\n",
       "      <th>7</th>\n",
       "      <td>2023-06-07</td>\n",
       "      <td>United Airlines flight diverted then stuck on...</td>\n",
       "      <td>0</td>\n",
       "      <td>0.9991</td>\n",
       "      <td>0.068</td>\n",
       "      <td>0.751</td>\n",
       "      <td>0.9991</td>\n",
       "    </tr>\n",
       "    <tr>\n",
       "      <th>8</th>\n",
       "      <td>2023-06-06</td>\n",
       "      <td>Get Comfortable United Airlines Longest Route...</td>\n",
       "      <td>0</td>\n",
       "      <td>0.9962</td>\n",
       "      <td>0.04</td>\n",
       "      <td>0.82</td>\n",
       "      <td>0.9962</td>\n",
       "    </tr>\n",
       "    <tr>\n",
       "      <th>9</th>\n",
       "      <td>2023-06-05</td>\n",
       "      <td>RT JaspreetTravels Peep the fitting taxiway n...</td>\n",
       "      <td>0</td>\n",
       "      <td>0.9981</td>\n",
       "      <td>0.033</td>\n",
       "      <td>0.816</td>\n",
       "      <td>0.9981</td>\n",
       "    </tr>\n",
       "  </tbody>\n",
       "</table>\n",
       "</div>"
      ],
      "text/plain": [
       "         Date                                             Tweets  Prices  \\\n",
       "0  2023-06-14   Take flight to your dream destinations  Enjoy...       0   \n",
       "1  2023-06-13   My day keeps getting better George Don amp Je...       0   \n",
       "2  2023-06-12   One thing I can guarantee is that united exec...       0   \n",
       "3  2023-06-11   Entitlement doesnt get ANY worse than this Un...       0   \n",
       "4  2023-06-10   UnitedAirlines Given the cost of my ticket am...       0   \n",
       "5  2023-06-09   Excited to be flying back home to Hawaii in f...       0   \n",
       "6  2023-06-08   ICAO A05A25Flt UAL549 UnitedAirlines BOSORDFi...       0   \n",
       "7  2023-06-07   United Airlines flight diverted then stuck on...       0   \n",
       "8  2023-06-06   Get Comfortable United Airlines Longest Route...       0   \n",
       "9  2023-06-05   RT JaspreetTravels Peep the fitting taxiway n...       0   \n",
       "\n",
       "     Comp Negative Neutral Positive  \n",
       "0 -0.6379    0.143   0.725  -0.6379  \n",
       "1  0.9991    0.036   0.802   0.9991  \n",
       "2  0.9982    0.061   0.783   0.9982  \n",
       "3  0.9815    0.029   0.834   0.9815  \n",
       "4  0.9454    0.078    0.81   0.9454  \n",
       "5  0.9994     0.06    0.75   0.9994  \n",
       "6  0.9998     0.04   0.751   0.9998  \n",
       "7  0.9991    0.068   0.751   0.9991  \n",
       "8  0.9962     0.04    0.82   0.9962  \n",
       "9  0.9981    0.033   0.816   0.9981  "
      ]
     },
     "execution_count": 117,
     "metadata": {},
     "output_type": "execute_result"
    }
   ],
   "source": [
    "ccdata\n"
   ]
  },
  {
   "cell_type": "code",
   "execution_count": 118,
   "id": "765a79b8",
   "metadata": {},
   "outputs": [],
   "source": [
    "y_train = pd.DataFrame(train['adj_close_price'])\n",
    "y_test = pd.DataFrame(test['adj_close_price'])"
   ]
  },
  {
   "cell_type": "code",
   "execution_count": 119,
   "id": "fc8e267e",
   "metadata": {},
   "outputs": [],
   "source": [
    "from sklearn.metrics import precision_score\n",
    "from sklearn.metrics import precision_recall_curve\n",
    "from sklearn.metrics import accuracy_score"
   ]
  },
  {
   "cell_type": "code",
   "execution_count": null,
   "id": "52818b18",
   "metadata": {},
   "outputs": [],
   "source": []
  },
  {
   "cell_type": "code",
   "execution_count": 19,
   "id": "150dafb8",
   "metadata": {},
   "outputs": [],
   "source": [
    "import numpy as np\n",
    "\n",
    "# Assuming you have test data in a list or array\n",
    "test_data = [10, 20, 30, 40]\n",
    "\n",
    "# Convert the test data into a NumPy array\n",
    "numpy_dataframe_test = np.array(test_data)\n"
   ]
  },
  {
   "cell_type": "code",
   "execution_count": 21,
   "id": "91ef7895",
   "metadata": {},
   "outputs": [],
   "source": [
    "# Convert the test data into a NumPy array\n",
    "numpy_dataframe_test = np.array(test_data)"
   ]
  },
  {
   "cell_type": "code",
   "execution_count": 23,
   "id": "5ea94c6f",
   "metadata": {},
   "outputs": [],
   "source": [
    "import pandas as pd\n",
    "\n",
    "dataframe = pd.read_csv('data/UAL.csv')\n"
   ]
  },
  {
   "cell_type": "code",
   "execution_count": 30,
   "id": "b422fc27",
   "metadata": {},
   "outputs": [],
   "source": [
    "import pandas as pd\n",
    "\n",
    "data = {\n",
    "    'Column1': [50, 70, 80],\n",
    "    'Column2': [200, 300, 400],\n",
    "    'Column3': [300, 600,700]\n",
    "}\n",
    "\n",
    "dataframe = pd.DataFrame(data)\n"
   ]
  },
  {
   "cell_type": "code",
   "execution_count": null,
   "id": "0792a88e",
   "metadata": {},
   "outputs": [],
   "source": []
  }
 ],
 "metadata": {
  "kernelspec": {
   "display_name": "Python 3 (ipykernel)",
   "language": "python",
   "name": "python3"
  },
  "language_info": {
   "codemirror_mode": {
    "name": "ipython",
    "version": 3
   },
   "file_extension": ".py",
   "mimetype": "text/x-python",
   "name": "python",
   "nbconvert_exporter": "python",
   "pygments_lexer": "ipython3",
   "version": "3.11.3"
  }
 },
 "nbformat": 4,
 "nbformat_minor": 5
}
